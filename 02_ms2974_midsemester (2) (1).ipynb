{
 "cells": [
  {
   "cell_type": "markdown",
   "source": "<div class=\"alert alert-block alert-info\">\n<h3>Student(s) Information</h3> Please provide information about yourself.<br>\n<b>Name1</b>: Nabihah Rashid <br>\n<b>Name2 (optional) </b>: Maryam Syed <br>\n<b>NetID 1</b>: nr560 <br>\n<b>NetID 2 (optional)</b>: ms2974<br>\n<b>Notes to Grader</b> (optional):<br>\n<br> <br>\n<b>IMPORTANT</b>\nYour work will not be graded withour your initials below<br>\nI certify that this lab represents my own work and I have read the RU academic intergrity policies at<br>\n<a href=\"https://www.cs.rutgers.edu/academic-integrity/introduction\">https://www.cs.rutgers.edu/academic-integrity/introduction </a><br>\n<b>Initials</b>:      \n\n\n<h3>Grader Notes</h3>\n<b>Your Grade<b>:<br>\n<b>Grader Initials</b>:<br>\n<b>Grader Comments</b> (optional):<br>\n</div>\n\n### CS 439 - Introduction to Data Science\n### Fall 2021\n\n# Midsemester Project : Twitter Data Analysis\n\n### Due Date : November 14th, 2021 by 11:59 PM\n\n\n### About this project\nThis is your mid-semester project. You are allowed to work with a partner (if you'd like). Only one partner (or max two per group is allowed). The goal of this mid-semester project is to work with Twitter API to analyze tweets from a person, and in this case, President Donald Trump.  @RealDonaldTrump tweets provide a great opportunity to understand how online media can be used to communicate over the traditional media. Moreoover, Trump tweets has become so consequential, they actually can move the stock market on short term and get network TV to debate and discuss hours and hours about what Trump meant.\n\nWe hope this project will be fun as we can analyze range of emotions, hope, controversy, vagueness that are part of Trump tweets. We are interested in seeing what conclusions you can draw from US Presidents tweets. \n* DISCLAIMER: This project is not designed with any bias in mind. Note that we could pick either candiadate (Hillary Clinton or Donald Trump) or anyone else to do the same analysis. We hope your analysis is objective, independent of any political bias you may have. As Data Scientists, it is our responsiblity to do independent analysis of the data we try to understand. You should follow data and interpret w/o any bias.\n",
   "metadata": {
    "id": "6uBju7svapPs",
    "cell_id": "00000-7d050060-f763-4c9b-8d96-70f1399590e6",
    "deepnote_app_coordinates": {
     "x": 0,
     "y": null,
     "w": 12,
     "h": 5
    },
    "deepnote_cell_type": "markdown"
   }
  },
  {
   "cell_type": "markdown",
   "source": "## Set up\nLet us get all the libaries initialized as necessary",
   "metadata": {
    "id": "nrwHuwfbapPw",
    "cell_id": "00001-2e3e5ed2-5bf6-42c0-8c3b-8acc8a9b3a18",
    "deepnote_app_coordinates": {
     "x": 0,
     "y": 6,
     "w": 12,
     "h": 5
    },
    "deepnote_cell_type": "markdown"
   }
  },
  {
   "cell_type": "code",
   "metadata": {
    "id": "M_FL--h5apPw",
    "cell_id": "00002-f7144a75-1eba-46d7-82b6-e268c6f0aea8",
    "deepnote_to_be_reexecuted": false,
    "source_hash": "f701efe8",
    "execution_start": 1636945090051,
    "execution_millis": 1747,
    "deepnote_app_coordinates": {
     "x": 0,
     "y": 12,
     "w": 12,
     "h": 5
    },
    "output_cleared": true,
    "deepnote_cell_type": "code"
   },
   "source": "# Run this cell to set up your notebook\nimport csv\nimport numpy as np\nimport pandas as pd\nimport matplotlib.pyplot as plt\nimport zipfile\nimport json\n\n# Ensure that Pandas shows at least 280 characters in columns, so we can see full tweets\npd.set_option('max_colwidth', 280)\n\n%matplotlib inline\nplt.style.use('fivethirtyeight')\nimport seaborn as sns\nsns.set()\nsns.set_context(\"talk\")\nimport re",
   "execution_count": 1,
   "outputs": []
  },
  {
   "cell_type": "markdown",
   "source": "## Downloading Recent Tweets\nIt is important to download the most recent tweets (especially if you are working as a group). Those who are working by themselves are allowed to use the downloaded files w/o setting up access to any twitter API (which can sometime be bit complicated). Twitter provides the API Tweepy (http://www.tweepy.org/) that makes it easy to access twitter content that is publicly available. We will also provide example code as needed.",
   "metadata": {
    "id": "6ORGPFVgapPx",
    "cell_id": "00003-e22cb4ff-5d7b-463d-bd51-df3efe2bce65",
    "deepnote_app_coordinates": {
     "x": 0,
     "y": 18,
     "w": 12,
     "h": 5
    },
    "deepnote_cell_type": "markdown"
   }
  },
  {
   "cell_type": "code",
   "metadata": {
    "tags": [],
    "cell_id": "00004-27cf9897-7b7f-4a00-b15f-90ab73806d03",
    "deepnote_to_be_reexecuted": false,
    "source_hash": "35f62632",
    "execution_start": 1636945091807,
    "execution_millis": 7682,
    "deepnote_app_coordinates": {
     "x": 0,
     "y": 24,
     "w": 12,
     "h": 5
    },
    "output_cleared": true,
    "deepnote_cell_type": "code"
   },
   "source": "!pip install tweepy==4.2.0",
   "execution_count": 2,
   "outputs": []
  },
  {
   "cell_type": "code",
   "metadata": {
    "id": "JOOqNiaJapPy",
    "cell_id": "00004-6332d437-0d38-46e6-bc32-f0125a37b617",
    "deepnote_to_be_reexecuted": false,
    "source_hash": "6c8db6ec",
    "execution_start": 1636945099504,
    "execution_millis": 219,
    "deepnote_app_coordinates": {
     "x": 0,
     "y": 30,
     "w": 12,
     "h": 5
    },
    "output_cleared": true,
    "deepnote_cell_type": "code"
   },
   "source": "## Make sure you have set up tweepy if you are working locally.\n# https://www.pythoncentral.io/introduction-to-tweepy-twitter-for-python/\n# After set up, the following should run:\nimport tweepy",
   "execution_count": 3,
   "outputs": []
  },
  {
   "cell_type": "markdown",
   "source": "## PART 1:  Accessing Twitter API  (optional for individuals)\nIn order to access Twitter API, you need to get keys by signing up as a Twitter developer. We will walk you through this process. \n* if you are working by yourself on this project, you can skip PART 1, and complete the project using the data files provided in the data folder. PART 1 is optional for those working by themselves. However, we highly recommend that you do Part 1 (after completing the project with offline data) if you would like to \"learn\" how to use Twitter API that might be useful.",
   "metadata": {
    "id": "pSnwuTGlapPy",
    "cell_id": "00005-1966fdb3-73f3-41d5-9d56-a94d4d4f8a72",
    "deepnote_app_coordinates": {
     "x": 0,
     "y": 36,
     "w": 12,
     "h": 5
    },
    "deepnote_cell_type": "markdown"
   }
  },
  {
   "cell_type": "markdown",
   "source": "### Task 1.1\n\nFollow the instructions below to get your Twitter API keys.  **Read the instructions completely before starting.**\n\n1. [Create a Twitter account](https://twitter.com/).  You can use an existing account if you have one; if you prefer to not do this assignment under your regular account, feel free to create a throw-away account.\n2. Under account settings, add your phone number to the account.\n3. [Create a Twitter developer account](https://developer.twitter.com/en/apply/) by clicking the 'Apply' button on the top right of the page. Attach it to your Twitter account. You'll have to fill out a form describing what you want to do with the developer account. Explain that you are doing this for a class at Rutgers University and that you don't know exactly what you're building yet and just need the account to get started. These applications are approved by some sort of AI system, so it doesn't matter exactly what you write. Just don't enter a bunch of alweiofalwiuhflawiuehflawuihflaiwhfe type stuff or you might get rejected.\n4. Once you're logged into your developer account, [create an application for this assignment](https://apps.twitter.com/app/new).  You can call it whatever you want, and you can write any URL when it asks for a web site.  You don't need to provide a callback URL.\n5. On the page for that application, find your Consumer Key and Consumer Secret.\n6. On the same page, create an Access Token.  Record the resulting Access Token and Access Token Secret.\n7. Edit the file [keys.json](keys.json) and replace the placeholders with your keys.",
   "metadata": {
    "id": "4ua3d1joapPz",
    "cell_id": "00006-f1cba194-6ea6-4751-8d62-939e67e1e7cd",
    "deepnote_app_coordinates": {
     "x": 0,
     "y": 42,
     "w": 12,
     "h": 5
    },
    "deepnote_cell_type": "markdown"
   }
  },
  {
   "cell_type": "markdown",
   "source": "## WARNING (Please Read) !!!!\n\n\n### Protect your Twitter Keys\n<span style=\"color:red\">\nIf someone has your authentication keys, they can access your Twitter account and post as you!  So don't give them to anyone, and **don't write them down in this notebook**. \n</span>\nThe usual way to store sensitive information like this is to put it in a separate file and read it programmatically.  That way, you can share the rest of your code without sharing your keys.  That's why we're asking you to put your keys in `keys.json` for this assignment.\n\n\n### Avoid making too many API calls.\n\n<span style=\"color:red\">\nTwitter limits developers to a certain rate of requests for data.  If you make too many requests in a short period of time, you'll have to wait awhile (around 15 minutes) before you can make more.  </span> \nSo carefully follow the code examples you see and don't rerun cells without thinking.  Instead, always save the data you've collected to a file.  We've provided templates to help you do that.\n\n\n### Be careful about which functions you call!\n\n<span style=\"color:red\">\nThis API can retweet tweets, follow and unfollow people, and modify your twitter settings.  Be careful which functions you invoke! </span> It is possible that you can accidentally re-tweet some tweets because you typed `retweet` instead of `retweet_count`. \n</span>\n",
   "metadata": {
    "id": "1OgUJbFCapP0",
    "cell_id": "00007-7e4b8435-6b76-44c7-a9da-ec984a4ebd54",
    "deepnote_app_coordinates": {
     "x": 0,
     "y": 48,
     "w": 12,
     "h": 5
    },
    "deepnote_cell_type": "markdown"
   }
  },
  {
   "cell_type": "code",
   "metadata": {
    "colab": {
     "base_uri": "https://localhost:8080/",
     "height": 232
    },
    "id": "s3GABOPEapP0",
    "outputId": "22edcb96-5f48-4682-8d8c-ed669bca9294",
    "cell_id": "00008-bc897b78-a123-4ebd-9f47-6bb29b45dbf3",
    "deepnote_to_be_reexecuted": false,
    "source_hash": "c331e808",
    "execution_start": 1636945099727,
    "execution_millis": 14,
    "deepnote_app_coordinates": {
     "x": 0,
     "y": 54,
     "w": 12,
     "h": 5
    },
    "output_cleared": true,
    "deepnote_cell_type": "code"
   },
   "source": "import json\nkey_file = 'keys.json'\n# Loading your keys from keys.json (which you should have filled\n# in in question 1):\nwith open(key_file) as f:\n    keys = json.load(f)\n# if you print or view the contents of keys be sure to delete the cell!",
   "execution_count": 4,
   "outputs": []
  },
  {
   "cell_type": "markdown",
   "source": "### Task 1.2 Testing Twitter Authentication\nThis following code should run w/o erros or warnings and display Rutgers University's twitter username",
   "metadata": {
    "id": "woTVwrZWapP1",
    "cell_id": "00009-75d87f2e-1a43-4cb9-a31e-d3446cc113a9",
    "deepnote_app_coordinates": {
     "x": 0,
     "y": 60,
     "w": 12,
     "h": 5
    },
    "deepnote_cell_type": "markdown"
   }
  },
  {
   "cell_type": "code",
   "metadata": {
    "id": "jeF48lesapP1",
    "outputId": "7d96ba32-cb41-4356-b10d-b0f57480bb96",
    "cell_id": "00010-f566c392-86d7-44ee-b65e-96e388fec9e1",
    "deepnote_to_be_reexecuted": false,
    "source_hash": "e861f58b",
    "execution_start": 1636945099746,
    "execution_millis": 549,
    "deepnote_app_coordinates": {
     "x": 0,
     "y": 66,
     "w": 12,
     "h": 5
    },
    "output_cleared": true,
    "deepnote_cell_type": "code"
   },
   "source": "import tweepy\nfrom tweepy import TweepyException\nimport logging\n\ntry:\n    auth = tweepy.OAuthHandler(keys[\"consumer_key\"], keys[\"consumer_secret\"])\n    redirect_url = auth.get_authorization_url()\n    auth.set_access_token(keys[\"access_token\"], keys[\"access_token_secret\"])\n    api = tweepy.API(auth)\n    print(\"Rutgers username is:\", api.get_user(screen_name=\"RutgersU\").name)\nexcept TweepyException as e:\n    logging.warning(\"There was a Tweepy error. Double check your API keys and try again.\")\n    logging.warning(e)",
   "execution_count": 5,
   "outputs": []
  },
  {
   "cell_type": "markdown",
   "source": "## PART 2 - Working with Twitter\nThe json file in data folder contains (to be downloaded by you) some loaded tweets from @RutgersU. Run it and read the code. You can also try other json files in the data folder to try this. ",
   "metadata": {
    "id": "usVPef0dapP2",
    "cell_id": "00011-ba11d2c0-abb0-4f36-9169-74231b11e530",
    "deepnote_app_coordinates": {
     "x": 0,
     "y": 72,
     "w": 12,
     "h": 5
    },
    "deepnote_cell_type": "markdown"
   }
  },
  {
   "cell_type": "code",
   "metadata": {
    "id": "LtJWj1sVapP2",
    "cell_id": "00012-943eace4-b13b-4f56-949f-7bc50a1f694c",
    "deepnote_to_be_reexecuted": false,
    "source_hash": "f306a6ec",
    "execution_start": 1636945100113,
    "execution_millis": 1055,
    "deepnote_app_coordinates": {
     "x": 0,
     "y": 78,
     "w": 12,
     "h": 5
    },
    "output_cleared": true,
    "deepnote_cell_type": "code"
   },
   "source": "from pathlib import Path\nimport json\n\nds_tweets_save_path = \"data/RutgersU_recent_tweets.json\"   # need to get this file\n\n# Guarding against attempts to download the data multiple\n# times:\nif not Path(ds_tweets_save_path).is_file():\n    # Getting as many recent tweets by @RutgersU as Twitter will let us have.\n    # We use tweet_mode='extended' so that Twitter gives us full 280 character tweets.\n    # This was a change introduced in September 2017.\n    \n    # The tweepy Cursor API actually returns \"sophisticated\" Status objects but we \n    # will use the basic Python dictionaries stored in the _json field. \n    example_tweets = [t._json for t in tweepy.Cursor(api.user_timeline, screen_name=\"RutgersU\", \n                                             tweet_mode='extended').items()]\n    \n    # Saving the tweets to a json file on disk for future analysis\n    with open(ds_tweets_save_path, \"w\") as f:        \n        json.dump(example_tweets, f)\n\n# Re-loading the json file:\nwith open(ds_tweets_save_path, \"r\") as f:\n    example_tweets = json.load(f)",
   "execution_count": 6,
   "outputs": []
  },
  {
   "cell_type": "markdown",
   "source": "If things ran as expected, you should be able to look at the first tweet by running the code below. It probabably does not make sense to view all tweets in a notebook, as size of the tweets can freeze your browser (always a good idea to press ctrl-S to save the latest, in case you have to restart Jupyter)",
   "metadata": {
    "id": "hPx2hgTcapP3",
    "cell_id": "00013-9c66cdf1-5ce1-4267-829e-3346495c9351",
    "deepnote_app_coordinates": {
     "x": 0,
     "y": 84,
     "w": 12,
     "h": 5
    },
    "deepnote_cell_type": "markdown"
   }
  },
  {
   "cell_type": "code",
   "metadata": {
    "id": "V6YxFwAKapP3",
    "outputId": "9c8bb2ee-4f49-4f05-cc2b-546fd168dd25",
    "cell_id": "00014-6bf37b6c-d337-4740-9d79-2cf7dd10a74d",
    "deepnote_to_be_reexecuted": false,
    "source_hash": "2989c11c",
    "execution_start": 1636945101174,
    "execution_millis": 43,
    "deepnote_app_coordinates": {
     "x": 0,
     "y": 90,
     "w": 12,
     "h": 5
    },
    "output_cleared": true,
    "deepnote_cell_type": "code"
   },
   "source": "# Looking at one tweet object, which has type Status: \nfrom pprint import pprint # ...to get a more easily-readable view.\nprint(example_tweets[0])",
   "execution_count": 7,
   "outputs": []
  },
  {
   "cell_type": "markdown",
   "source": "### Task 2.1 (Optional for Individuals)\n\n### What you need to do. \n\nRe-factor the above code fragment into reusable snippets below.  You should not need to make major modifications; this is mostly an exercise in understanding the above code block. ",
   "metadata": {
    "id": "YL8O3oWrapP3",
    "cell_id": "00015-12c748a7-960c-4acc-81fa-89cde7ff9434",
    "deepnote_app_coordinates": {
     "x": 0,
     "y": 96,
     "w": 12,
     "h": 5
    },
    "deepnote_cell_type": "markdown"
   }
  },
  {
   "cell_type": "code",
   "metadata": {
    "id": "Vac0VdRmapP4",
    "cell_id": "00016-262f6603-d3f8-4f71-9442-507a6b337342",
    "deepnote_to_be_reexecuted": false,
    "source_hash": "113cb53b",
    "execution_start": 1636945101227,
    "execution_millis": 13,
    "deepnote_app_coordinates": {
     "x": 0,
     "y": 102,
     "w": 12,
     "h": 5
    },
    "output_cleared": true,
    "deepnote_cell_type": "code"
   },
   "source": "def load_keys(path):\n    \"\"\"Loads your Twitter authentication keys from a file on disk.\n    \n    Args:\n        path (str): The path to your key file.  The file should\n          be in JSON format and look like this (but filled in):\n            {\n                \"consumer_key\": \"<your Consumer Key here>\",\n                \"consumer_secret\":  \"<your Consumer Secret here>\",\n                \"access_token\": \"<your Access Token here>\",\n                \"access_token_secret\": \"<your Access Token Secret here>\"\n            }\n    \n    Returns:\n        dict: A dictionary mapping key names (like \"consumer_key\") to\n          key values.\"\"\"\n    \n    ### BEGIN SOLUTION\n    if not Path(path).is_file(): \n      example_tweets = [t._json for t in tweepy.Cursor(api.user_timeline, screen_name=\"RutgersU\", \n                                             tweet_mode='extended').items()]\n    \n    # Saving the tweets to a json file on disk for future analysis\n      with open(path, \"w\") as f:        \n        json.dump(path, f)\n\n    # Re-loading the json file:\n    with open(path, \"r\") as f:\n      example_tweets = json.load(f)\n    \n    return example_tweets\n\n    ### END SOLUTION",
   "execution_count": 8,
   "outputs": []
  },
  {
   "cell_type": "code",
   "metadata": {
    "id": "Ei4KEzlnapP4",
    "cell_id": "00017-e0174900-96f1-4082-a993-5b9f7b6a867d",
    "deepnote_to_be_reexecuted": false,
    "source_hash": "70b68ba6",
    "execution_start": 1636945101247,
    "execution_millis": 17,
    "deepnote_app_coordinates": {
     "x": 0,
     "y": 108,
     "w": 12,
     "h": 5
    },
    "output_cleared": true,
    "deepnote_cell_type": "code"
   },
   "source": "def download_recent_tweets_by_user(user_account_name, keys):\n    \"\"\"Downloads tweets by one Twitter user.\n\n    Args:\n        user_account_name (str): The name of the Twitter account\n          whose tweets will be downloaded.\n        keys (dict): A Python dictionary with Twitter authentication\n          keys (strings), like this (but filled in):\n            {\n                \"consumer_key\": \"<your Consumer Key here>\",\n                \"consumer_secret\":  \"<your Consumer Secret here>\",\n                \"access_token\": \"<your Access Token here>\",\n                \"access_token_secret\": \"<your Access Token Secret here>\"\n            }\n\n    Returns:\n        list: A list of Dictonary objects, each representing one tweet.\"\"\"\n    import tweepy\n    \n    ### BEGIN SOLUTION \n    auth = tweepy.OAuthHandler(keys['consumer_key'], keys['consumer_secret'])\n    auth.set_access_token(keys['access_token'], keys['access_token_secret'])\n\n    api = tweepy.API(auth)\n\n    tweet_list=[]\n    tweets = api.user_timeline(screen_name=user_account_name)\n    \n    for tweet in tweets:\n      tweet_list.append(tweet)\n  \n    return tweet_list \n    ### END SOLUTION",
   "execution_count": 9,
   "outputs": []
  },
  {
   "cell_type": "code",
   "metadata": {
    "id": "xCjxPXNzapP4",
    "cell_id": "00018-7c1bff86-187f-44a7-8219-29c28b365003",
    "deepnote_to_be_reexecuted": false,
    "source_hash": "8734787d",
    "execution_start": 1636945101270,
    "execution_millis": 15,
    "deepnote_app_coordinates": {
     "x": 0,
     "y": 120,
     "w": 12,
     "h": 5
    },
    "output_cleared": true,
    "deepnote_cell_type": "code"
   },
   "source": "def load_tweets(path):\n    \"\"\"Loads tweets that have previously been saved.\n    \n    Calling load_tweets(path) after save_tweets(tweets, path)\n    will produce the same list of tweets.\n    \n    Args:\n        path (str): The place where the tweets were be saved.\n\n    Returns:\n        list: A list of Dictionary objects, each representing one tweet.\"\"\"\n    \n    ### BEGIN SOLUTION\n    with open(path, \"rb\") as f:\n        import json\n        return json.load(f)\n    \n    ### END SOLUTION",
   "execution_count": 10,
   "outputs": []
  },
  {
   "cell_type": "code",
   "metadata": {
    "tags": [],
    "deepnote_app_coordinates": {
     "x": 0,
     "y": 0,
     "w": 12,
     "h": 5
    },
    "cell_id": "00020-f257816a-3cb6-42f6-aea5-9d5ec54510b7",
    "deepnote_to_be_reexecuted": false,
    "source_hash": "8c1352d6",
    "execution_start": 1636945101292,
    "execution_millis": 70,
    "output_cleared": true,
    "deepnote_cell_type": "code"
   },
   "source": "def save_tweets(tweets, path):\n    with open(path, \"w\") as f:     \n        json.dump(tweets, f)",
   "execution_count": 11,
   "outputs": []
  },
  {
   "cell_type": "code",
   "metadata": {
    "id": "p6ckUKvJapP5",
    "cell_id": "00019-7670f23f-834e-48fc-94ff-a1d48fb9ac46",
    "deepnote_to_be_reexecuted": false,
    "source_hash": "fac4cf6e",
    "execution_start": 1636945101362,
    "execution_millis": 1,
    "deepnote_app_coordinates": {
     "x": 0,
     "y": 126,
     "w": 12,
     "h": 5
    },
    "output_cleared": true,
    "deepnote_cell_type": "code"
   },
   "source": "def get_tweets_with_cache(user_account_name, keys_path):\n    \"\"\"Get recent tweets from one user, loading from a disk cache if available.\n    \n    The first time you call this function, it will download tweets by\n    a user.  Subsequent calls will not re-download the tweets; instead\n    they'll load the tweets from a save file in your local filesystem.\n    All this is done using the functions you defined in the previous cell.\n    This has benefits and drawbacks that often appear when you cache data:\n    \n    +: Using this function will prevent extraneous usage of the Twitter API.\n    +: You will get your data much faster after the first time it's called.\n    -: If you really want to re-download the tweets (say, to get newer ones,\n       or because you screwed up something in the previous cell and your\n       tweets aren't what you wanted), you'll have to find the save file\n       (which will look like <something>_recent_tweets.pkl) and delete it.\n    \n    Args:\n        user_account_name (str): The Twitter handle of a user, without the @.\n        keys_path (str): The path to a JSON keys file in your filesystem.\n    \"\"\"\n    \n    ### BEGIN SOLUTION\n    print(\"in cache\")\n    if not Path(user_account_name + '_recent_tweets.pkl').is_file():\n        tweets = download_recent_tweets_by_user(user_account_name, load_keys(keys_path))\n        save_tweets(tweets, user_account_name + '_recent_tweets.pkl')\n        return tweets\n    return load_tweets(user_account_name + '_recent_tweets.pkl')\n    \n    ### END SOLUTION",
   "execution_count": 12,
   "outputs": []
  },
  {
   "cell_type": "markdown",
   "source": "If everything was implemented correctly you should be able to obtain roughly the last 3000 tweets by @RutgersU. (This may take a few minutes)",
   "metadata": {
    "id": "-MZGu9P-apP5",
    "cell_id": "00020-f15a9714-73d6-4e8a-af49-185c9eb5c06a",
    "deepnote_app_coordinates": {
     "x": 0,
     "y": 132,
     "w": 12,
     "h": 5
    },
    "deepnote_cell_type": "markdown"
   }
  },
  {
   "cell_type": "code",
   "metadata": {
    "id": "kdqvDP24apP5",
    "cell_id": "00021-90cd488e-ad8a-467a-b7eb-e277a36ea0dc",
    "deepnote_to_be_reexecuted": false,
    "source_hash": "bdd723b1",
    "execution_start": 1636945101363,
    "execution_millis": 0,
    "deepnote_app_coordinates": {
     "x": 0,
     "y": 138,
     "w": 12,
     "h": 5
    },
    "output_cleared": true,
    "deepnote_cell_type": "code"
   },
   "source": "# When you are done, run this cell to load @RutgersU 's tweets.\n# Note the function get_tweets_with_cache.  You may find it useful\n# later.\n# rutgers_tweets = get_tweets_with_cache(\"RutgersU\", \"keys1.json\")\n# print(\"Number of tweets downloaded:\", len(rutgers_tweets))",
   "execution_count": 13,
   "outputs": []
  },
  {
   "cell_type": "markdown",
   "source": "### Task 2.2\nTo be consistent we are going to use the same dataset no matter what you get from your twitter api. So from this point on, if you are working as a group or individually, be sure to use the data sets provided to you in the zip file. There should be two json files inside your data folder. One is '2017-2018.json', the other one is '2016-2017.json'. We will load the '2017-2018.json' first.",
   "metadata": {
    "id": "6vhrwHw5apP5",
    "cell_id": "00022-756a88d3-6a64-4967-ada4-87bb8441fed1",
    "deepnote_app_coordinates": {
     "x": 0,
     "y": 144,
     "w": 12,
     "h": 5
    },
    "deepnote_cell_type": "markdown"
   }
  },
  {
   "cell_type": "code",
   "metadata": {
    "id": "xW1xN_3XapP6",
    "cell_id": "00024-26f42603-514d-4506-a7d3-2bc6f6261564",
    "deepnote_to_be_reexecuted": false,
    "source_hash": "f3d48c64",
    "execution_start": 1636945101405,
    "execution_millis": 446,
    "deepnote_app_coordinates": {
     "x": 0,
     "y": 156,
     "w": 12,
     "h": 5
    },
    "output_cleared": true,
    "deepnote_cell_type": "code"
   },
   "source": "dest_path = \"data/2017-2018.json\"\ntrump_tweets = load_tweets(dest_path)",
   "execution_count": 14,
   "outputs": []
  },
  {
   "cell_type": "markdown",
   "source": "If everything is working correctly correctly this should load roughly the last 3000 tweets by `realdonaldtrump`.",
   "metadata": {
    "id": "_i_aHCjSapP6",
    "cell_id": "00025-4aab92d7-dfe9-4f46-861e-796137e545f2",
    "deepnote_app_coordinates": {
     "x": 0,
     "y": 162,
     "w": 12,
     "h": 5
    },
    "deepnote_cell_type": "markdown"
   }
  },
  {
   "cell_type": "code",
   "metadata": {
    "id": "xr55obB8apP6",
    "cell_id": "00026-2bf7c495-263a-4b1e-ab4b-99b64304faa0",
    "deepnote_to_be_reexecuted": false,
    "source_hash": "570229c3",
    "execution_start": 1636945101859,
    "execution_millis": 11,
    "deepnote_app_coordinates": {
     "x": 0,
     "y": 168,
     "w": 12,
     "h": 5
    },
    "output_cleared": true,
    "deepnote_cell_type": "code"
   },
   "source": "assert 2000 <= len(trump_tweets) <= 4000",
   "execution_count": 15,
   "outputs": []
  },
  {
   "cell_type": "markdown",
   "source": "If the assert statement above works, then continue on to task 2.3.\n\n### Task 2.3\n\nFind the number of the month of the oldest tweet.",
   "metadata": {
    "id": "WjYXBPCpapP6",
    "cell_id": "00027-a212c570-c36d-4f79-805c-400edcf1fd2a",
    "deepnote_app_coordinates": {
     "x": 0,
     "y": 174,
     "w": 12,
     "h": 5
    },
    "deepnote_cell_type": "markdown"
   }
  },
  {
   "cell_type": "code",
   "metadata": {
    "id": "lYPMcwPdapP6",
    "cell_id": "00028-12aaa3bb-365b-4d45-9cf2-ca41a7184415",
    "deepnote_to_be_reexecuted": false,
    "source_hash": "2e7b5641",
    "execution_start": 1636945101881,
    "execution_millis": 111,
    "deepnote_app_coordinates": {
     "x": 0,
     "y": 180,
     "w": 12,
     "h": 5
    },
    "output_cleared": true,
    "deepnote_cell_type": "code"
   },
   "source": "# Enter the number of the month of the oldest tweet (e.g. 1 for January)\noldest_month = 10\n\n\ntrump_tweets = pd.DataFrame(trump_tweets)\n### BEGIN SOLUTION\n\noldest = trump_tweets.iloc[[len(trump_tweets)-1]][['created_at']]\noldest = pd.to_datetime(oldest['created_at'].to_numpy())\nmonth = oldest.month\nprint(month)\n\n### END SOLUTION",
   "execution_count": 16,
   "outputs": []
  },
  {
   "cell_type": "markdown",
   "source": "## PART 3  Twitter Source Analysis\n\n",
   "metadata": {
    "id": "cNdIIfM4apP6",
    "cell_id": "00029-3cf0a521-b9af-4f2a-95c1-723b3e2588a4",
    "deepnote_app_coordinates": {
     "x": 0,
     "y": 186,
     "w": 12,
     "h": 5
    },
    "deepnote_cell_type": "markdown"
   }
  },
  {
   "cell_type": "markdown",
   "source": "### Task 3.1\n\nCreate a new data frame from `2016-2017.json` and merge with `trump_tweets` \n\n**Important:** There may/will be some overlap so be sure to __eliminate duplicate tweets__. If you do not eliminate the duplicates properly, your results might not be compatible with the test solution. \n**Hint:** the `id` of a tweet is always unique.",
   "metadata": {
    "id": "bnZTwTGRapP6",
    "cell_id": "00030-38b60a3f-5fa9-4f05-84a3-c1c6fd73c0d8",
    "deepnote_app_coordinates": {
     "x": 0,
     "y": 192,
     "w": 12,
     "h": 5
    },
    "deepnote_cell_type": "markdown"
   }
  },
  {
   "cell_type": "code",
   "metadata": {
    "id": "UKw0vaWTapP6",
    "cell_id": "00031-44fdc1ce-ae1f-4a89-a72a-23269f706cf2",
    "deepnote_to_be_reexecuted": false,
    "source_hash": "66f8507a",
    "execution_start": 1636945101981,
    "execution_millis": 4687,
    "deepnote_app_coordinates": {
     "x": 0,
     "y": 198,
     "w": 12,
     "h": 5
    },
    "output_cleared": true,
    "deepnote_cell_type": "code"
   },
   "source": "# if you do not have new tweets, then all_tweets is the same as  old_trump_tweets\n### BEGIN SOLUTION\n\ndest_path_2 = \"data/2016-2017.json\"\ntrump_tweets_2 = load_tweets(dest_path_2)\ntrump_tweets_2 = pd.DataFrame(trump_tweets_2)\n\ntrump_tweets_changed = trump_tweets[['id', 'source', 'full_text', 'retweet_count']]\ntrump_tweets_changed_2 = trump_tweets_2[['id', 'source', 'text', 'retweet_count']]\n\ntrump_tweets_changed = trump_tweets_changed.rename(columns={'full_text': 'text'})\ntrump_tweets_changed['time'] = pd.to_datetime(trump_tweets['created_at'].to_numpy())\ntrump_tweets_changed_2['time'] = pd.to_datetime(trump_tweets_2['created_at'].to_numpy())\n\ntrump_tweets_changed.loc[:, 'id'] = trump_tweets_changed['id'].astype('int64')\ntrump_tweets_changed_2.loc[:, 'id'] = trump_tweets_changed_2['id'].astype('int64')\n\ntrump_tweets_changed = trump_tweets_changed.set_index('id')\ntrump_tweets_changed_2 = trump_tweets_changed_2.set_index('id')\n",
   "execution_count": 17,
   "outputs": []
  },
  {
   "cell_type": "code",
   "metadata": {
    "tags": [],
    "deepnote_app_coordinates": {
     "x": 0,
     "y": 0,
     "w": 12,
     "h": 5
    },
    "cell_id": "00033-1feb029f-4855-4340-bc43-ab7db3d4d563",
    "deepnote_to_be_reexecuted": false,
    "source_hash": "13f9b6dd",
    "execution_start": 1636945106656,
    "execution_millis": 1474799,
    "output_cleared": true,
    "deepnote_cell_type": "code"
   },
   "source": "# trump_tweets_2[\"id\"] = pd.to_numeric(trump_tweets_2[\"id\"])\n# trump_tweets_2.rename(columns={'text': 'full_text'}, inplace =True)\n\n# # get cols for trump_tweets\n# trump_tweets_changed = pd.DataFrame(index = trump_tweets.index)\n# trump_tweets_changed['time'] = pd.to_datetime(trump_tweets['created_at'].to_numpy())\n# trump_tweets_changed['source'] = trump_tweets['source'].to_numpy()\n# trump_tweets_changed['text'] = trump_tweets['full_text'].to_numpy()\n# trump_tweets_changed['retweet_count'] = trump_tweets['retweet_count'].to_numpy()\n\n# #get cols for trump_tweets2\n# trump_tweets_changed_2 = pd.DataFrame(index = trump_tweets_2.index)\n# trump_tweets_changed_2['time'] = pd.to_datetime(trump_tweets_2['created_at'].to_numpy())\n# trump_tweets_changed_2['source'] = trump_tweets_2['source'].to_numpy()\n# trump_tweets_changed_2['text'] = trump_tweets_2['full_text'].to_numpy()\n# trump_tweets_changed_2['retweet_count'] = trump_tweets_2['retweet_count'].to_numpy()",
   "execution_count": 18,
   "outputs": []
  },
  {
   "cell_type": "code",
   "metadata": {
    "id": "UKw0vaWTapP6",
    "cell_id": "00034-364c0260-78ee-4e1d-b518-967d8de9aad4",
    "deepnote_to_be_reexecuted": false,
    "source_hash": "855d98a0",
    "deepnote_app_coordinates": {
     "x": 0,
     "y": 198,
     "w": 12,
     "h": 5
    },
    "allow_embed": false,
    "execution_start": 1636945106660,
    "execution_millis": 238,
    "output_cleared": true,
    "deepnote_cell_type": "code"
   },
   "source": "# if you do not have new tweets, then all_tweets is the same as  old_trump_tweets\nall_tweets = pd.concat([trump_tweets_changed, trump_tweets_changed_2])\n\nprint('all_tweets size before dropping dups:', all_tweets.size)\n# all_tweets = all_tweets[~all_tweets.index.duplicated(keep='first')]\nall_tweets = all_tweets.drop_duplicates(keep ='first')\n\nprint(trump_tweets_changed.size)\nprint(trump_tweets_changed_2.size)\n\nprint('all_tweets size after dropping dups:', all_tweets.size)\nall_tweets.sort_index()\n\n### END SOLUTION\n\nassert(all_tweets.size == 40176) \n\n",
   "execution_count": 19,
   "outputs": []
  },
  {
   "cell_type": "code",
   "metadata": {
    "tags": [],
    "deepnote_app_coordinates": {
     "x": 0,
     "y": 0,
     "w": 12,
     "h": 5
    },
    "cell_id": "00033-492668bf-93e7-4a76-b8eb-836063f191c0",
    "deepnote_to_be_reexecuted": false,
    "source_hash": "1e5a1302",
    "execution_start": 1636945106696,
    "execution_millis": 202,
    "output_cleared": true,
    "deepnote_cell_type": "code"
   },
   "source": "all_tweets.columns",
   "execution_count": 20,
   "outputs": []
  },
  {
   "cell_type": "markdown",
   "source": "### Task 3.2\nConstruct a DataFrame called `df_trump` containing all the tweets stored in `all_tweets`. The index of the dataframe should be the ID of each tweet (looks something like `907698529606541312`). It should have these columns:\n\n- `time`: The time the tweet was created encoded as a datetime object. (Use `pd.to_datetime` to encode the timestamp.)\n- `source`: The source device of the tweet.\n- `text`: The text of the tweet.\n- `retweet_count`: The retweet count of the tweet. \n\nFinally, **the resulting dataframe should be sorted by the index.**\n\n**Warning:** *Some tweets will store the text in the `text` field and other will use the `full_text` field.*\n\n**Warning:** *Don't forget to check the type of index*",
   "metadata": {
    "id": "w2f3pX1TapP6",
    "cell_id": "00032-e0310e20-238b-4583-9af4-c4d1885dcf29",
    "deepnote_app_coordinates": {
     "x": 0,
     "y": 216,
     "w": 12,
     "h": 5
    },
    "deepnote_cell_type": "markdown"
   }
  },
  {
   "cell_type": "code",
   "metadata": {
    "id": "BaBrQPLNapP6",
    "cell_id": "00033-8ed00ab4-eff8-4e1a-a790-ec526207f879",
    "deepnote_to_be_reexecuted": false,
    "source_hash": "baa6173e",
    "execution_start": 1636945106718,
    "execution_millis": 324,
    "deepnote_app_coordinates": {
     "x": 0,
     "y": 222,
     "w": 12,
     "h": 5
    },
    "output_cleared": true,
    "deepnote_cell_type": "code"
   },
   "source": "### BEGIN SOLUTION\ndf_trump = all_tweets\ndf_trump.sort_index()\ndf_trump\n### END SOLUTION",
   "execution_count": 21,
   "outputs": []
  },
  {
   "cell_type": "markdown",
   "source": "In the following questions, we are going to find out the charateristics of Trump tweets and the devices used for the tweets.\n\nFirst let's examine the source field:",
   "metadata": {
    "id": "w8WbUgNBapP7",
    "cell_id": "00034-9857a677-845e-4ca2-8585-279ff35d8f0e",
    "deepnote_app_coordinates": {
     "x": 0,
     "y": 228,
     "w": 12,
     "h": 5
    },
    "deepnote_cell_type": "markdown"
   }
  },
  {
   "cell_type": "code",
   "metadata": {
    "id": "NiXXHDmpapP7",
    "cell_id": "00035-682dee04-40d1-4c1b-964b-fbf61c3b83b1",
    "deepnote_to_be_reexecuted": false,
    "source_hash": "3d9ca3c0",
    "execution_start": 1636945107046,
    "execution_millis": 22,
    "deepnote_app_coordinates": {
     "x": 0,
     "y": 234,
     "w": 12,
     "h": 5
    },
    "output_cleared": true,
    "deepnote_cell_type": "code"
   },
   "source": "df_trump['source'].unique()",
   "execution_count": 22,
   "outputs": []
  },
  {
   "cell_type": "markdown",
   "source": "## Task 3.3\n\nRemove the HTML tags from the source field. \n\n**Hint:** Use `df_trump['source'].str.replace` and your favorite regular expression.",
   "metadata": {
    "id": "pR-pQJ-FapP7",
    "cell_id": "00036-5a5a30e1-0140-4b4a-b3e7-d1dc5c0ee08b",
    "deepnote_app_coordinates": {
     "x": 0,
     "y": 240,
     "w": 12,
     "h": 5
    },
    "deepnote_cell_type": "markdown"
   }
  },
  {
   "cell_type": "code",
   "metadata": {
    "id": "uys4JaIuapP7",
    "cell_id": "00037-00c102a3-1948-4986-b6ac-5d79a7a79b3c",
    "deepnote_to_be_reexecuted": false,
    "source_hash": "3c43534a",
    "execution_start": 1636945107087,
    "execution_millis": 38,
    "deepnote_app_coordinates": {
     "x": 0,
     "y": 246,
     "w": 12,
     "h": 5
    },
    "output_cleared": true,
    "deepnote_cell_type": "code"
   },
   "source": "### BEGIN SOLUTION\nimport re\n\ndf_trump['source']= df_trump['source'].str.replace('<[^>]*>', '')\n\n### END SOLUTION",
   "execution_count": 23,
   "outputs": []
  },
  {
   "cell_type": "markdown",
   "source": "### Make a plot to find out the most common device types used in accessing twitter\n\nSort the plot in decreasing order of the most common device type",
   "metadata": {
    "id": "PZo4QU7MapP7",
    "cell_id": "00038-09e03190-cf31-4ceb-a733-739e8ef001a8",
    "deepnote_app_coordinates": {
     "x": 0,
     "y": 252,
     "w": 12,
     "h": 5
    },
    "deepnote_cell_type": "markdown"
   }
  },
  {
   "cell_type": "code",
   "metadata": {
    "id": "WOdz32WZapP7",
    "cell_id": "00039-32545867-c032-4e49-8e58-a2ae230a9818",
    "deepnote_to_be_reexecuted": false,
    "source_hash": "c5ad7b08",
    "execution_start": 1636945107132,
    "execution_millis": 807,
    "deepnote_app_coordinates": {
     "x": 0,
     "y": 258,
     "w": 12,
     "h": 5
    },
    "output_cleared": true,
    "deepnote_cell_type": "code"
   },
   "source": "### BEGIN SOLUTION\nlabels = ['Twitter for iPhone','Twitter for Android','Twitter Web Client','Media Studio',\n'Twitter Ads',\n'Twitter for iPad',\n'Instagram',\n'TweetDeck',\n'Periscope',\n'Mobile Web (M5)']\nax = sns.countplot(data = df_trump, x = 'source', order = df_trump['source'].value_counts().index)\nax.set_xticklabels(labels, rotation=90 )\n### END SOLUTION",
   "execution_count": 24,
   "outputs": []
  },
  {
   "cell_type": "markdown",
   "source": "### Task 3.4\nIs there a difference between his Tweet behavior across these devices? We will attempt to answer this question in our subsequent analysis.\n\nFirst, we'll take a look at whether Trump's tweets from an Android come at different times than his tweets from an iPhone. Note that Twitter gives us his tweets in the [UTC timezone](https://www.wikiwand.com/en/List_of_UTC_time_offsets) (notice the `+0000` in the first few tweets)\n\n**Note** - If your `time` column is not in datetime format, the following code will not work.",
   "metadata": {
    "id": "ZatUeX2capP7",
    "cell_id": "00040-04eeb43f-f84b-46a4-8315-7fb41e12693a",
    "deepnote_app_coordinates": {
     "x": 0,
     "y": 264,
     "w": 12,
     "h": 5
    },
    "deepnote_cell_type": "markdown"
   }
  },
  {
   "cell_type": "code",
   "metadata": {
    "id": "VhBLwCxcapP7",
    "cell_id": "00041-e1621f30-db2b-4350-897b-617203c8b256",
    "deepnote_to_be_reexecuted": false,
    "source_hash": "7c3c4d4b",
    "execution_start": 1636945107944,
    "execution_millis": 37,
    "deepnote_app_coordinates": {
     "x": 0,
     "y": 270,
     "w": 12,
     "h": 5
    },
    "output_cleared": true,
    "deepnote_cell_type": "code"
   },
   "source": "df_trump['time'][0:3]",
   "execution_count": 25,
   "outputs": []
  },
  {
   "cell_type": "markdown",
   "source": "We'll convert the tweet times to US Eastern Time, the timezone of New York and Washington D.C., since those are the places we would expect the most tweet activity from Trump.",
   "metadata": {
    "id": "CN0KG6ktapP7",
    "cell_id": "00042-f1561373-b61a-4364-8e17-5006e265fa29",
    "deepnote_app_coordinates": {
     "x": 0,
     "y": 276,
     "w": 12,
     "h": 5
    },
    "deepnote_cell_type": "markdown"
   }
  },
  {
   "cell_type": "code",
   "metadata": {
    "id": "0uB-3WK4apP7",
    "cell_id": "00043-a1752fc4-a197-4f81-ae76-f82e22c8835b",
    "deepnote_to_be_reexecuted": false,
    "source_hash": "bf65462b",
    "execution_start": 1636945107968,
    "execution_millis": 1301,
    "deepnote_app_coordinates": {
     "x": 0,
     "y": 282,
     "w": 12,
     "h": 5
    },
    "output_cleared": true,
    "deepnote_cell_type": "code"
   },
   "source": "df_trump['est_time'] = (\n    df_trump['time'] # Set initial timezone to UTC\n                 .dt.tz_convert(\"EST\") # Convert to Eastern Time\n)\ndf_trump.head()",
   "execution_count": 26,
   "outputs": []
  },
  {
   "cell_type": "markdown",
   "source": "**What you need to do:**\n\nAdd a column called `hour` to the `df_trump` table which contains the hour of the day as floating point number computed by:\n\n$$\n\\text{hour} + \\frac{\\text{minute}}{60} + \\frac{\\text{second}}{60^2}\n$$",
   "metadata": {
    "id": "pTusdoO5apP7",
    "cell_id": "00044-3ce6a296-ec85-40c9-8d41-c17c4d50c309",
    "deepnote_app_coordinates": {
     "x": 0,
     "y": 288,
     "w": 12,
     "h": 5
    },
    "deepnote_cell_type": "markdown"
   }
  },
  {
   "cell_type": "code",
   "metadata": {
    "tags": [],
    "cell_id": "00050-e179b9de-a80e-41eb-9d5c-42012a554fdc",
    "deepnote_to_be_reexecuted": false,
    "source_hash": "89f95d7",
    "execution_start": 1636945109261,
    "execution_millis": 11982,
    "deepnote_app_coordinates": {
     "x": 0,
     "y": 642,
     "w": 12,
     "h": 5
    },
    "output_cleared": true,
    "deepnote_cell_type": "code"
   },
   "source": "from datetime import datetime\nnew = df_trump['est_time'].reset_index()\nfor i in range(len(new)):\n    dateTimeObj = new.loc[i,'est_time']\n    date_str = dateTimeObj.strftime(\"%Y-%m-%d %H:%M:%S\")\n    time = date_str.split()[1].split(\":\")\n    # print(time)\n    hour = float(time[0])\n    minute = float(time[1])/60\n    second = float(time[2])/3600\n    \n    new.loc[i, 'hour'] = hour + minute + second\n",
   "execution_count": 27,
   "outputs": []
  },
  {
   "cell_type": "code",
   "metadata": {
    "tags": [],
    "cell_id": "00051-b094e7ff-880d-4837-8597-d285f856f998",
    "deepnote_to_be_reexecuted": false,
    "source_hash": "a14dedf0",
    "execution_start": 1636945121250,
    "execution_millis": 13,
    "deepnote_app_coordinates": {
     "x": 0,
     "y": 648,
     "w": 12,
     "h": 5
    },
    "output_cleared": true,
    "deepnote_cell_type": "code"
   },
   "source": "df_trump[\"hour\"] = new[\"hour\"].to_numpy()\ndf_trump['roundhour']= round(df_trump['hour'])",
   "execution_count": 28,
   "outputs": []
  },
  {
   "cell_type": "code",
   "metadata": {
    "id": "EkFBxTQOapP8",
    "cell_id": "00046-1b17adf7-de9e-48d3-a016-3c6bc965ba71",
    "deepnote_app_coordinates": {
     "x": 0,
     "y": 300,
     "w": 12,
     "h": 5
    },
    "deepnote_to_be_reexecuted": false,
    "source_hash": "88139bb2",
    "execution_start": 1636945121274,
    "execution_millis": 29,
    "output_cleared": true,
    "deepnote_cell_type": "code"
   },
   "source": "assert np.isclose(df_trump.loc[690171032150237184]['hour'], 8.93639)",
   "execution_count": 29,
   "outputs": []
  },
  {
   "cell_type": "markdown",
   "source": "Use the `roundhour` column and plot the number of tweets at every hour of the day.\nOrder the plot using the hour of the day (1 to 24). Use seaborn `countplot`",
   "metadata": {
    "id": "Ib6CTpMTapP8",
    "cell_id": "00047-05fd3ef2-e54d-4355-9467-22634b808fc6",
    "deepnote_app_coordinates": {
     "x": 0,
     "y": 306,
     "w": 12,
     "h": 5
    },
    "deepnote_cell_type": "markdown"
   }
  },
  {
   "cell_type": "code",
   "metadata": {
    "id": "MQkwODiAapP8",
    "cell_id": "00048-126536c0-4477-4ebc-8980-292443c39b2c",
    "deepnote_app_coordinates": {
     "x": 0,
     "y": 312,
     "w": 12,
     "h": 5
    },
    "deepnote_to_be_reexecuted": false,
    "source_hash": "a27ba0cd",
    "execution_start": 1636945121319,
    "execution_millis": 1340,
    "output_cleared": true,
    "deepnote_cell_type": "code"
   },
   "source": "# make a bar plot here\n### BEGIN SOLUTION\ndf_trump['roundhour'] = df_trump['roundhour'].replace([0],24) \nhour = np.arange(1, 25)\nax = sns.countplot(data = df_trump, x = 'roundhour', order = hour)\nax.set_xticklabels(hour, rotation=90)\n\n### END SOLUTION",
   "execution_count": 30,
   "outputs": []
  },
  {
   "cell_type": "markdown",
   "source": "Now, use this data along with the seaborn `distplot` function to examine the distribution over hours of the day in eastern time that trump tweets on each device for the 2 most commonly used devices.  Your plot should look somewhat similar to the following. \n![device_hour2.png](attachment:device_hour2.png)\n",
   "metadata": {
    "id": "mGD_SCtAapP8",
    "cell_id": "00049-24940fa2-539d-49f5-8f2d-e5ca6893e7be",
    "deepnote_app_coordinates": {
     "x": 0,
     "y": 318,
     "w": 12,
     "h": 5
    },
    "deepnote_cell_type": "markdown"
   }
  },
  {
   "cell_type": "code",
   "metadata": {
    "id": "_lXwAyKFapP8",
    "cell_id": "00050-ac2f788e-1bfc-454e-bd23-1663e424047e",
    "deepnote_app_coordinates": {
     "x": 0,
     "y": 324,
     "w": 12,
     "h": 5
    },
    "deepnote_to_be_reexecuted": false,
    "source_hash": "8f60baa6",
    "execution_start": 1636945122656,
    "execution_millis": 1145,
    "output_cleared": true,
    "deepnote_cell_type": "code"
   },
   "source": "### BEGIN SOLUTION\n\nandroid = df_trump.groupby(['source']).get_group('Twitter for Android')['roundhour']\niphone = df_trump.groupby(['source']).get_group('Twitter for iPhone')['roundhour']\nax = sns.distplot(iphone, kde = True, hist = False, color = 'b')\nax = sns.distplot(android, kde = True, hist = False, color = 'r')\nplt.legend(labels=['iPhone', 'Android'])\n### END SOLUTION",
   "execution_count": 31,
   "outputs": []
  },
  {
   "cell_type": "markdown",
   "source": "### Task 3.5\n\nAccording to [this Verge article](https://www.theverge.com/2017/3/29/15103504/donald-trump-iphone-using-switched-android), Donald Trump switched from an Android to an iPhone sometime in March 2017.\n\nCreate a figure identical to your figure from 3.4, except that you should show the results only from 2016. If you get stuck consider looking at the `year_fraction` function from the next problem.\n\nUse this data along with the seaborn `distplot` function to examine the distribution over hours of the day in eastern time that trump tweets on each device for the 2 most commonly used devices.  Your plot should look somewhat similar to the following. \n\nDuring the campaign, it was theorized that Donald Trump's tweets from Android were written by him personally, and the tweets from iPhone were from his staff. Does your figure give support the theory?\n\nResponse: In 2016, the time allocation for the usage of the iphone centered in the afternoon, while his tweets from 2015 to present shows that he mostly tweets in the morning. It seems that the tweets from iphone in 2016 were from his staff, not himself.",
   "metadata": {
    "id": "L1jbqJBqapP8",
    "cell_id": "00051-92fc3d7c-f5ee-4d6d-a371-2868d7a8c19c",
    "deepnote_app_coordinates": {
     "x": 0,
     "y": 330,
     "w": 12,
     "h": 5
    },
    "deepnote_cell_type": "markdown"
   }
  },
  {
   "cell_type": "markdown",
   "source": "![title](images/device_hour2.png)",
   "metadata": {
    "id": "BKGr1_ULapP8",
    "cell_id": "00052-b80b1ca6-a381-4a58-a52e-0189d064f9fd",
    "deepnote_app_coordinates": {
     "x": 0,
     "y": 336,
     "w": 12,
     "h": 5
    },
    "deepnote_cell_type": "markdown"
   }
  },
  {
   "cell_type": "code",
   "metadata": {
    "tags": [],
    "deepnote_app_coordinates": {
     "x": 0,
     "y": 0,
     "w": 12,
     "h": 5
    },
    "cell_id": "00058-8543e66b-2661-4b22-8579-4923405da831",
    "deepnote_to_be_reexecuted": false,
    "source_hash": "814e0b9f",
    "execution_start": 1636945123812,
    "execution_millis": 307,
    "output_cleared": true,
    "deepnote_cell_type": "code"
   },
   "source": "import datetime\ndef year_fraction(date):\n    start = datetime.date(date.year, 1, 1).toordinal()\n    year_length = datetime.date(date.year+1, 1, 1).toordinal() - start\n    return date.year + float(date.toordinal() - start) / year_length\n\ndf_trump['year'] = df_trump['time'].apply(year_fraction) #should be df_trump",
   "execution_count": 32,
   "outputs": []
  },
  {
   "cell_type": "code",
   "metadata": {
    "tags": [],
    "deepnote_app_coordinates": {
     "x": 0,
     "y": 0,
     "w": 12,
     "h": 5
    },
    "cell_id": "00058-dc4a4da1-7a46-45a3-9e2e-2d93d1290764",
    "deepnote_to_be_reexecuted": false,
    "source_hash": "4a4a3a03",
    "execution_start": 1636945124128,
    "execution_millis": 1348,
    "output_cleared": true,
    "deepnote_cell_type": "code"
   },
   "source": "### BEGIN SOLUTION\ndf_trump['year'] = df_trump['time'].apply(year_fraction) \ndf_trump['roundyear']=(df_trump['year'].astype(int))\ndf_trump_2016 = df_trump.groupby(['roundyear']).get_group(2016)\n\nandroid = df_trump_2016.groupby(['source']).get_group('Twitter for Android')['roundhour']\niphone = df_trump_2016.groupby(['source']).get_group('Twitter for iPhone')['roundhour']\n\nax = sns.distplot(iphone, kde = True, hist = False, color = 'b')\nax = sns.distplot(android, kde = True, hist = False, color = 'r')\n\nplt.legend(labels=['iPhone', 'Android'])\n\n### END SOLUTION",
   "execution_count": 33,
   "outputs": []
  },
  {
   "cell_type": "markdown",
   "source": "### Task 3.6\nEdit this cell to answer the following questions.\n* What time of the day the Android tweets were made by Trump himself?\n    morning\n* What time of the day the Android tweets were made by paid staff?\n    afternoon/mid-day\n\n\nNote that these are speculations based on what you observe in the data set.",
   "metadata": {
    "id": "1XFRyB9FapP8",
    "cell_id": "00054-061f495d-c246-4bf8-ae1e-f75b6045eb39",
    "deepnote_app_coordinates": {
     "x": 0,
     "y": 348,
     "w": 12,
     "h": 5
    },
    "deepnote_cell_type": "markdown"
   }
  },
  {
   "cell_type": "markdown",
   "source": "### Task 3.7 Device Analysis\nLet's now look at which device he has used over the entire time period of this dataset.\n\nTo examine the distribution of dates we will convert the date to a fractional year that can be plotted as a distribution.\n\n(Code borrowed from https://stackoverflow.com/questions/6451655/python-how-to-convert-datetime-dates-to-decimal-years)",
   "metadata": {
    "id": "P0zbpLZUapP9",
    "cell_id": "00055-0fbb9e2f-8b70-4450-9ace-2ee931e7b6b0",
    "deepnote_app_coordinates": {
     "x": 0,
     "y": 354,
     "w": 12,
     "h": 5
    },
    "deepnote_cell_type": "markdown"
   }
  },
  {
   "cell_type": "code",
   "metadata": {
    "id": "4OEbR4afapP9",
    "cell_id": "00056-effbe039-966b-45b8-b7b5-4d5623d4efee",
    "deepnote_app_coordinates": {
     "x": 0,
     "y": 360,
     "w": 12,
     "h": 5
    },
    "deepnote_to_be_reexecuted": false,
    "source_hash": "f4054e1d",
    "execution_start": 1636945125515,
    "execution_millis": 521,
    "output_cleared": true,
    "deepnote_cell_type": "code"
   },
   "source": "import datetime\ndef year_fraction(date):\n    start = datetime.date(date.year, 1, 1).toordinal()\n    year_length = datetime.date(date.year+1, 1, 1).toordinal() - start\n    return date.year + float(date.toordinal() - start) / year_length\n\n\ndf_trump['year'] = df_trump['time'].apply(year_fraction) #should be df_trump",
   "execution_count": 34,
   "outputs": []
  },
  {
   "cell_type": "markdown",
   "source": "Use the `sns.distplot` to overlay the distributions of the 2 most frequently used web technologies over the years.  Your final plot should be similar to:\n\n![source_years.png](attachment:source_years.png)",
   "metadata": {
    "id": "7j4xEBAOapP9",
    "cell_id": "00057-e7bc8869-1fb7-4592-b0ce-528f1e130b71",
    "deepnote_app_coordinates": {
     "x": 0,
     "y": 366,
     "w": 12,
     "h": 5
    },
    "deepnote_cell_type": "markdown"
   }
  },
  {
   "cell_type": "code",
   "metadata": {
    "id": "oRdFIObiapP9",
    "cell_id": "00058-af0efba2-2101-442b-9833-1a633fab8eef",
    "deepnote_app_coordinates": {
     "x": 0,
     "y": 372,
     "w": 12,
     "h": 5
    },
    "deepnote_to_be_reexecuted": false,
    "source_hash": "a5eb183",
    "execution_start": 1636945126051,
    "execution_millis": 1547,
    "output_cleared": true,
    "deepnote_cell_type": "code"
   },
   "source": "### BEGIN SOLUTION\n\nandroid1 = df_trump.groupby(['source']).get_group('Twitter for Android')['year']\niphone1 = df_trump.groupby(['source']).get_group('Twitter for iPhone')['year']\n\nax = sns.distplot(iphone1, kde = True)\nax = sns.distplot(android1, kde = True)\n\nplt.legend(labels=['iPhone', 'Android'])\n\n### END SOLUTION",
   "execution_count": 35,
   "outputs": []
  },
  {
   "cell_type": "markdown",
   "source": "## PART 4 - Sentiment Analysis\n\nIt turns out that we can use the words in Trump's tweets to calculate a measure of the sentiment of the tweet. For example, the sentence \"I love America!\" has positive sentiment, whereas the sentence \"I hate taxes!\" has a negative sentiment. In addition, some words have stronger positive / negative sentiment than others: \"I love America.\" is more positive than \"I like America.\"\n\nWe will use the [VADER (Valence Aware Dictionary and sEntiment Reasoner)](https://github.com/cjhutto/vaderSentiment) lexicon to analyze the sentiment of Trump's tweets. VADER is a lexicon and rule-based sentiment analysis tool that is specifically attuned to sentiments expressed in social media which is great for our usage.\n\nThe VADER lexicon gives the sentiment of individual words. Run the following cell to show the first few rows of the lexicon:",
   "metadata": {
    "id": "Nn0opKxWapP9",
    "cell_id": "00059-4b1e0142-98bb-4002-88f2-a51549322d8a",
    "deepnote_app_coordinates": {
     "x": 0,
     "y": 378,
     "w": 12,
     "h": 5
    },
    "deepnote_cell_type": "markdown"
   }
  },
  {
   "cell_type": "code",
   "metadata": {
    "id": "NICSCaj_apP9",
    "outputId": "f2ddb09d-b75a-41c9-a12b-89eec667c346",
    "cell_id": "00060-659c29fd-d771-4447-9139-f4f0dc6b64a7",
    "deepnote_app_coordinates": {
     "x": 0,
     "y": 384,
     "w": 12,
     "h": 5
    },
    "deepnote_to_be_reexecuted": false,
    "source_hash": "6dceea41",
    "execution_start": 1636945127611,
    "execution_millis": 46,
    "output_cleared": true,
    "deepnote_cell_type": "code"
   },
   "source": "print(''.join(open(\"data/vader_lexicon.txt\").readlines()[:10]))",
   "execution_count": 36,
   "outputs": []
  },
  {
   "cell_type": "markdown",
   "source": "### Task 4.1\n\nAs you can see, the lexicon contains emojis too! The first column of the lexicon is the *token*, or the word itself. The second column is the *polarity* of the word, or how positive / negative it is.\n\n(How did they decide the polarities of these words? What are the other two columns in the lexicon? See the link above.)\n\n Read in the lexicon into a DataFrame called `df_sent`. The index of the DF should be the tokens in the lexicon. `df_sent` should have one column: `polarity`: The polarity of each token.",
   "metadata": {
    "id": "Cqr5pItGapP9",
    "cell_id": "00061-395a0069-bed3-476f-a804-c24fe2c9a2ae",
    "deepnote_app_coordinates": {
     "x": 0,
     "y": 390,
     "w": 12,
     "h": 5
    },
    "deepnote_cell_type": "markdown"
   }
  },
  {
   "cell_type": "code",
   "metadata": {
    "id": "TR_upovHapP9",
    "cell_id": "00062-43a4c553-6c87-49d3-8b9b-dd6f581b077d",
    "deepnote_app_coordinates": {
     "x": 0,
     "y": 396,
     "w": 12,
     "h": 5
    },
    "deepnote_to_be_reexecuted": false,
    "source_hash": "245fd59f",
    "execution_start": 1636945127661,
    "execution_millis": 225,
    "output_cleared": true,
    "deepnote_cell_type": "code"
   },
   "source": "### BEGIN SOLUTION\ndf_sent = pd.read_csv('data/vader_lexicon.txt', header = None, sep=\"\\t\", index_col = 0)\ndf_sent.drop(axis = 'columns', labels = [2, 3], inplace=True)\ndf_sent.rename(columns ={1:'polarity'}, inplace=True)\ndf_sent\n\n### END SOLUTION",
   "execution_count": 37,
   "outputs": []
  },
  {
   "cell_type": "markdown",
   "source": "### Task 4.2\n\nNow, let's use this lexicon to calculate the overall sentiment for each of Trump's tweets. Here's the basic idea:\n\n1. For each tweet, find the sentiment of each word.\n2. Calculate the sentiment of each tweet by taking the sum of the sentiments of its words.\n\nFirst, let's lowercase the text in the tweets since the lexicon is also lowercase. Set the `text` column of the `df_trump` DF to be the lowercased text of each tweet.",
   "metadata": {
    "id": "rP0VMBSFapP9",
    "cell_id": "00063-ea81e1c7-5652-47cc-b4bc-0b4630054581",
    "deepnote_app_coordinates": {
     "x": 0,
     "y": 402,
     "w": 12,
     "h": 5
    },
    "deepnote_cell_type": "markdown"
   }
  },
  {
   "cell_type": "code",
   "metadata": {
    "id": "s5sBadfbapP9",
    "cell_id": "00064-361ab91a-9c1c-4c56-a080-19f4cb740b5f",
    "deepnote_app_coordinates": {
     "x": 0,
     "y": 408,
     "w": 12,
     "h": 5
    },
    "deepnote_to_be_reexecuted": false,
    "source_hash": "58272403",
    "execution_start": 1636945127898,
    "execution_millis": 32,
    "output_cleared": true,
    "deepnote_cell_type": "code"
   },
   "source": "### BEGIN SOLUTION\ndf_trump['text'] = df_trump['text'].str.lower()\n### END SOLUTION",
   "execution_count": 38,
   "outputs": []
  },
  {
   "cell_type": "markdown",
   "source": "### Task 4.3\n\nNow, let's get rid of punctuation since it'll cause us to fail to match words. Create a new column called `no_punc` in the `df_trump` to be the lowercased text of each tweet with all punctuation replaced by a single space. We consider punctuation characters to be any character that isn't a Unicode word character or a whitespace character. You may want to consult the Python documentation on regexes for this problem.\n\n(Why don't we simply remove punctuation instead of replacing with a space? See if you can figure this out by looking at the tweet data.)",
   "metadata": {
    "id": "cqK4HQNVapP-",
    "cell_id": "00065-0a4fb249-9ff1-4d26-ba65-64bf89d06f10",
    "deepnote_app_coordinates": {
     "x": 0,
     "y": 414,
     "w": 12,
     "h": 5
    },
    "deepnote_cell_type": "markdown"
   }
  },
  {
   "cell_type": "code",
   "metadata": {
    "id": "QNAvW1axapP-",
    "cell_id": "00066-eff11258-cb9f-4289-98ab-7d62ae4b69a8",
    "deepnote_app_coordinates": {
     "x": 0,
     "y": 420,
     "w": 12,
     "h": 5
    },
    "deepnote_to_be_reexecuted": false,
    "source_hash": "caa8988",
    "execution_start": 1636945127940,
    "execution_millis": 241,
    "output_cleared": true,
    "deepnote_cell_type": "code"
   },
   "source": "# Save your regex in punct_re\nimport re\npunct_re = r'[^\\w\\s\\n]'\n\n### BEGIN SOLUTION\nregex = re.compile(punct_re)\ndf_trump['no_punc'] = df_trump['text'].replace(to_replace=regex, value= ' ')\n\n### END SOLUTION",
   "execution_count": 39,
   "outputs": []
  },
  {
   "cell_type": "code",
   "metadata": {
    "id": "fmaOn2D7apP-",
    "cell_id": "00067-d6531e27-4c85-433e-b219-217c0e729a3c",
    "deepnote_app_coordinates": {
     "x": 0,
     "y": 426,
     "w": 12,
     "h": 5
    },
    "deepnote_to_be_reexecuted": false,
    "source_hash": "5d736053",
    "execution_start": 1636945128189,
    "execution_millis": 22,
    "output_cleared": true,
    "deepnote_cell_type": "code"
   },
   "source": "assert isinstance(punct_re, str)\nassert re.search(punct_re, 'this') is None\nassert re.search(punct_re, 'this is ok') is None\nassert re.search(punct_re, 'this is\\nok') is None\nassert re.search(punct_re, 'this is not ok.') is not None\nassert re.search(punct_re, 'this#is#ok') is not None\nassert re.search(punct_re, 'this^is ok') is not None\nassert df_trump['no_punc'].loc[800329364986626048] == 'i watched parts of  nbcsnl saturday night live last night  it is a totally one sided  biased show   nothing funny at all  equal time for us '\nassert df_trump['text'].loc[884740553040175104] == 'working hard to get the olympics for the united states (l.a.). stay tuned!'\n",
   "execution_count": 40,
   "outputs": []
  },
  {
   "cell_type": "markdown",
   "source": "### Task 4.4\n\n\nNow, let's convert the tweets into what's called a [*tidy format*](https://cran.r-project.org/web/packages/tidyr/vignettes/tidy-data.html) to make the sentiments easier to calculate. Use the `no_punc` column of `df_trump` to create a table called `tidy_format`. The index of the table should be the IDs of the tweets, repeated once for every word in the tweet. It has two columns:\n\n1. `num`: The location of the word in the tweet. For example, if the tweet was \"i love america\", then the location of the word \"i\" is 0, \"love\" is 1, and \"america\" is 2.\n2. `word`: The individual words of each tweet.\n\nThe first few rows of our `tidy_format` table look like:\n\n<table border=\"1\" class=\"dataframe\">\n  <thead>\n    <tr style=\"text-align: right;\">\n      <th></th>\n      <th>num</th>\n      <th>word</th>\n    </tr>\n  </thead>\n  <tbody>\n    <tr>\n      <th>894661651760377856</th>\n      <td>0</td>\n      <td>i</td>\n    </tr>\n    <tr>\n      <th>894661651760377856</th>\n      <td>1</td>\n      <td>think</td>\n    </tr>\n    <tr>\n      <th>894661651760377856</th>\n      <td>2</td>\n      <td>senator</td>\n    </tr>\n    <tr>\n      <th>894661651760377856</th>\n      <td>3</td>\n      <td>blumenthal</td>\n    </tr>\n    <tr>\n      <th>894661651760377856</th>\n      <td>4</td>\n      <td>should</td>\n    </tr>\n  </tbody>\n</table>\n\nYou can double check that your tweet with ID `894661651760377856` has the same rows as ours. Our tests don't check whether your table looks exactly like ours.\n\nAs usual, try to avoid using any for loops. Our solution uses a chain of 5 methods on the 'trump' DF, albeit using some rather advanced Pandas hacking.\n\n* **Hint 1:** Try looking at the `expand` argument to pandas' `str.split`.\n\n* **Hint 2:** Try looking at the `stack()` method.\n\n* **Hint 3:** Try looking at the `level` parameter of the `reset_index` method.",
   "metadata": {
    "id": "2KsT--c-apP-",
    "cell_id": "00068-5f13a2d9-0941-4f99-bd13-180d9a64a6bb",
    "deepnote_app_coordinates": {
     "x": 0,
     "y": 432,
     "w": 12,
     "h": 5
    },
    "deepnote_cell_type": "markdown"
   }
  },
  {
   "cell_type": "code",
   "metadata": {
    "id": "BqaENYt3apP-",
    "cell_id": "00069-056f48be-32cb-4487-9021-9f9576c5f035",
    "deepnote_app_coordinates": {
     "x": 0,
     "y": 438,
     "w": 12,
     "h": 5
    },
    "deepnote_to_be_reexecuted": false,
    "source_hash": "7b3ab020",
    "execution_start": 1636945128220,
    "execution_millis": 372,
    "output_cleared": true,
    "deepnote_cell_type": "code"
   },
   "source": "#tidy_format = ...\n\n### BEGIN SOLUTION\ntidy_format = df_trump['no_punc'].str.split(expand=True).stack().to_frame().reset_index(level = 1)\ntidy_format = tidy_format.rename(columns = {\"level_1\" : \"num\", 0 : 'word'})\ntidy_format[:].loc[894661651760377856]\n\n### END SOLUTION",
   "execution_count": 41,
   "outputs": []
  },
  {
   "cell_type": "code",
   "metadata": {
    "id": "WPHMJKK1apP-",
    "cell_id": "00070-9cce79be-80dc-4a4a-98d8-dd30334a5125",
    "deepnote_app_coordinates": {
     "x": 0,
     "y": 444,
     "w": 12,
     "h": 5
    },
    "deepnote_to_be_reexecuted": false,
    "source_hash": "ecf1094f",
    "execution_start": 1636945128588,
    "execution_millis": 27,
    "output_cleared": true,
    "deepnote_cell_type": "code"
   },
   "source": "assert tidy_format.loc[894661651760377856].shape == (27, 2)\nassert ' '.join(list(tidy_format.loc[894661651760377856]['word'])) == 'i think senator blumenthal should take a nice long vacation in vietnam where he lied about his service so he can at least say he was there'",
   "execution_count": 42,
   "outputs": []
  },
  {
   "cell_type": "markdown",
   "source": "### Task 4.5\n\nNow that we have this table in the tidy format, it becomes much easier to find the sentiment of each tweet: we can join the table with the lexicon table. \n\nAdd a `polarity` column to the `df_trump` table.  The `polarity` column should contain the sum of the sentiment polarity of each word in the text of the tweet.\n\n**Hint** you will need to merge the `tidy_format` and `df_sent` tables and group the final answer.\n",
   "metadata": {
    "id": "LCkJmueyapP-",
    "cell_id": "00071-e700fcd2-7e6e-44ae-a0e4-2e6ad0fd189c",
    "deepnote_app_coordinates": {
     "x": 0,
     "y": 450,
     "w": 12,
     "h": 5
    },
    "deepnote_cell_type": "markdown"
   }
  },
  {
   "cell_type": "code",
   "metadata": {
    "id": "Aem_gXlMapP-",
    "cell_id": "00072-39c104be-9f6c-4f21-969f-370e22af2dab",
    "deepnote_app_coordinates": {
     "x": 0,
     "y": 456,
     "w": 12,
     "h": 5
    },
    "deepnote_to_be_reexecuted": false,
    "source_hash": "754884ab",
    "execution_start": 1636945128627,
    "execution_millis": 211,
    "output_cleared": true,
    "deepnote_cell_type": "code"
   },
   "source": "#df_trump['polarity'] = ...\n\n### BEGIN SOLUTION\nmerged_df = tidy_format.merge(df_sent, left_on = 'word', right_index= True)\ndf_trump['polarity'] = merged_df['polarity'].reset_index().groupby('id').sum()\ndf_trump['polarity'] = df_trump['polarity'].fillna(0)\n### END SOLUTION",
   "execution_count": 43,
   "outputs": []
  },
  {
   "cell_type": "code",
   "metadata": {
    "id": "mhgNONHiapP-",
    "cell_id": "00073-56faedc3-3298-49e6-9951-2c8a19ac36bb",
    "deepnote_app_coordinates": {
     "x": 0,
     "y": 462,
     "w": 12,
     "h": 5
    },
    "deepnote_to_be_reexecuted": false,
    "source_hash": "b1e3bd0d",
    "execution_start": 1636945128876,
    "execution_millis": 9,
    "output_cleared": true,
    "deepnote_cell_type": "code"
   },
   "source": "assert np.allclose(df_trump.loc[744701872456536064, 'polarity'], 8.4)\nassert np.allclose(df_trump.loc[745304731346702336, 'polarity'], 2.5)\nassert np.allclose(df_trump.loc[744519497764184064, 'polarity'], 1.7)\nassert np.allclose(df_trump.loc[894661651760377856, 'polarity'], 0.2)\nassert np.allclose(df_trump.loc[894620077634592769, 'polarity'], 5.4)\n# If you fail this test, you dropped tweets with 0 polarity\nassert np.allclose(df_trump.loc[744355251365511169, 'polarity'], 0.0)\n",
   "execution_count": 44,
   "outputs": []
  },
  {
   "cell_type": "markdown",
   "source": "### Task 4.6\nNow we have a measure of the sentiment of each of his tweets! You can read over the VADER readme to understand a more robust sentiment analysis.\nNow, write the code to see the most positive and most negative tweets from Trump in your dataset:\nFind the most negative and most positive tweets made by Trump",
   "metadata": {
    "id": "7iNmWEDNapP-",
    "cell_id": "00074-29bf3b62-ef09-4f88-9a6f-4565906f511e",
    "deepnote_app_coordinates": {
     "x": 0,
     "y": 468,
     "w": 12,
     "h": 5
    },
    "deepnote_cell_type": "markdown"
   }
  },
  {
   "cell_type": "code",
   "metadata": {
    "id": "MFanLgGlapP-",
    "cell_id": "00075-2a1d99d8-1bb3-4982-a02e-9a19bcebc872",
    "deepnote_app_coordinates": {
     "x": 0,
     "y": 474,
     "w": 12,
     "h": 5
    },
    "deepnote_to_be_reexecuted": false,
    "source_hash": "f8729874",
    "execution_start": 1636945128913,
    "execution_millis": 61,
    "output_cleared": true,
    "deepnote_cell_type": "code"
   },
   "source": "### BEGIN SOLUTION\n\nprint('Most negative tweets:')\nsorted_negative = df_trump.sort_values('polarity')\nsorted_negative.head()['text']\n\n### END SOLUTION",
   "execution_count": 45,
   "outputs": []
  },
  {
   "cell_type": "code",
   "metadata": {
    "id": "b66zMSi6apP_",
    "cell_id": "00076-178d3d8c-dadf-41ab-9c7b-b52b6c0d7a37",
    "deepnote_app_coordinates": {
     "x": 0,
     "y": 480,
     "w": 12,
     "h": 5
    },
    "deepnote_to_be_reexecuted": false,
    "source_hash": "dfc2f2dd",
    "execution_start": 1636945128963,
    "execution_millis": 75,
    "output_cleared": true,
    "deepnote_cell_type": "code"
   },
   "source": "### BEGIN SOLUTION\n\nprint('Most positive tweets:')\nsorted_positive= df_trump.sort_values('polarity', ascending=False)\nsorted_positive.head()['text']\n    \n### END SOLUTION",
   "execution_count": 46,
   "outputs": []
  },
  {
   "cell_type": "markdown",
   "source": "### Task 4.7\nPlot the distribution of tweet sentiments broken down by whether the text of the tweet contains `nyt` or `fox`.  Then in the box below comment on what we observe?\n\n![title](images/nyt_vs_fox.png)",
   "metadata": {
    "id": "rBTcV47lapP_",
    "cell_id": "00077-450abced-d853-4664-a4c7-961303aeefbf",
    "deepnote_app_coordinates": {
     "x": 0,
     "y": 486,
     "w": 12,
     "h": 5
    },
    "deepnote_cell_type": "markdown"
   }
  },
  {
   "cell_type": "code",
   "metadata": {
    "id": "0ktQdImsapP_",
    "cell_id": "00078-20ed62dd-33ee-4a20-a218-32d8ccfbb3d9",
    "deepnote_app_coordinates": {
     "x": 0,
     "y": 492,
     "w": 12,
     "h": 5
    },
    "deepnote_to_be_reexecuted": false,
    "source_hash": "d029f444",
    "execution_start": 1636945129028,
    "execution_millis": 1945,
    "output_cleared": true,
    "deepnote_cell_type": "code"
   },
   "source": "### BEGIN SOLUTION\nplt.figure(figsize = (10,5))\nnyt = df_trump[df_trump['text'].str.contains(\"nyt\")]\nfox = df_trump[df_trump['text'].str.contains(\"fox\")]\nax = sns.distplot(nyt['polarity'], kde=True)\nax = sns.distplot(fox['polarity'], kde = True)\n\nplt.legend(labels=['nyt', 'fox'])\n\n### END SOLUTION",
   "execution_count": 47,
   "outputs": []
  },
  {
   "cell_type": "markdown",
   "source": "##### Comment on what you observe:\n\n#### BEGIN SOLUTION\nThe tweets that contain nyt have a more negative sentiment and the tweets that contain fox have a more positive sentiment\n\n#### END SOLUTION",
   "metadata": {
    "id": "-Z4exTkuapP_",
    "cell_id": "00079-90fbb898-d187-4a1e-940c-e5f9f2104746",
    "deepnote_app_coordinates": {
     "x": 0,
     "y": 498,
     "w": 12,
     "h": 5
    },
    "deepnote_cell_type": "markdown"
   }
  },
  {
   "cell_type": "markdown",
   "source": "## PART 5 - Principal Component Analysis (PCA) and Twitter\nA look at the top words used and the sentiments expressed in Trump tweets indicates that, some words are used with others almost all the time. A notable example is the slogan like Make America Great Again. As such, it may be beneficial to look at groups of words rather than individual words. For that, we will look at an approach applying a Principal Component Analysis. \n\n### The PCA\nThe Principal Component Analysis, or PCA, is a tool generally used to identify patterns and to reduce the number of variables you have to consider in your analysis. For example, if you have data with 200 columns, it may be that a significant amount of the variance in your data can be explained by just 100 principal components. In the PCA, the first component is chosen in such a way that has the largest variance, subsequent components are orthogonal and continue covering as much variance as possible. In this way, the PCA samples as much of the variability in the data set with the first few components. Mathematically, each component is a linear combination of all the input parameters times coefficients specific for that component. These coefficients, or loading factors, are constrained such that the sum of the squares of them are equal to 1. As such, the loading factors serve as weights describing how strongly certain parameters contribute to the specific principal component. Parameters with large values of positive or negative loading factors are correlated with each other, which can serve to identify trends in your data.",
   "metadata": {
    "id": "RnpgkUcpapP_",
    "cell_id": "00080-32d1e5ec-2d90-4b0c-aa6b-93e0599997f6",
    "deepnote_app_coordinates": {
     "x": 0,
     "y": 504,
     "w": 12,
     "h": 5
    },
    "deepnote_cell_type": "markdown"
   }
  },
  {
   "cell_type": "markdown",
   "source": "### Task 5.1 Cleaning up the Data\nUsing NLTK (Natural Language Toolkit) package for language processing and other python libraries, parse the json file to deal with inflected words, such as plurals, and removed stop words like common English words (the, and, it, etc) and certain political terms (the candidates names, for example). You can start with the top 50 words, but full analysis may require large number of words.\nCreate a document-frequecy (df) matrix with 5000 rows and 50 columns where each column is a particular word (feature) and each row is a tweet (observation). The values of the matrix is how often the word appears. Apply the techniques we learned to reduce the weight of most common words (if necessary). Since this is a sparse matrix, you can use the sparse martix libraries to make things a bit more efficient (we can also use a regular numpy arrays to store these things since the dimensions are not too large). Lecture 6.1 captures some sparse matrix routines you can use.\nPrint the first 10 rows of the df to show the matrix you created\n\nStart with the `tidy_format` dataframe",
   "metadata": {
    "id": "o9zY4IQFapP_",
    "cell_id": "00081-ce21a133-a0b8-48fb-ba4c-be12a0950d22",
    "deepnote_app_coordinates": {
     "x": 0,
     "y": 510,
     "w": 12,
     "h": 5
    },
    "deepnote_cell_type": "markdown"
   }
  },
  {
   "cell_type": "code",
   "metadata": {
    "id": "oiWydwJJapP_",
    "cell_id": "00082-8b20392a-29ba-49c0-a005-a721b44c9230",
    "deepnote_app_coordinates": {
     "x": 0,
     "y": 516,
     "w": 12,
     "h": 5
    },
    "deepnote_to_be_reexecuted": false,
    "source_hash": "d9976046",
    "execution_start": 1636945165267,
    "execution_millis": 18764,
    "output_cleared": true,
    "deepnote_cell_type": "code"
   },
   "source": "### BEGIN SOLUTION\nimport nltk\nimport nltk.corpus\nfrom nltk.corpus import stopwords\nfrom nltk.stem import WordNetLemmatizer\nnltk.download('stopwords')\nnltk.download('wordnet')\n\n# without dropping dups, the .split() line of code in the for loop won't work\nall_tweets = all_tweets[~all_tweets.index.duplicated(keep='first')]\ndf_trump1 = all_tweets\n\n#create a dataframe called tmp to store all words appear in the tweets\nstopwrd = stopwords.words('english')\nstopwrd.extend(['rt','t','co','https','realdonaldtrump','amp',\"u\",'hillary','trump2016','trump','clinton','http','ha','wa'])\ntmp = tidy_format\n\n#remove stopwords  \n# changes them to empty rows first\ntmp = tmp[~tmp['word'].isin(stopwrd)]\n\n#deal with plurals\nlemmatizer = WordNetLemmatizer()\ntmp['word'] = tmp.word.apply(lemmatizer.lemmatize)\n\n# Remove numbers\ntmp = tmp[~(tmp['word'].str.contains('[0-9]+'))]\n\n#Remove words with only 1 or 2 length\ntmp = tmp[~tmp['word'].apply(lambda x: len(x) <= 2)]\n# tmp['word'].apply(lambda x: ' '.join([w for w in x.split() if len(w) > 2]))\n\n# get the words with top 50 frequency\ntop50 = tmp['word'].value_counts().nlargest(50).to_frame()\n#filter the ids\ntmp2 = tmp[tmp['word'].isin(top50.index)]\n#get first 5000 unique ids\nidlist = tmp2.index.unique()\nidlist = idlist[:5000]\n#create matrix\nmatrix = np.zeros((5000, 50))\nwords = top50.index\nfor i in range(5000):\n    for j in range(50):\n        if (words[j]) in (df_trump1['text'].loc[idlist[i]]).split():\n            matrix[i][j] += 1\n### END SOLUTION\n",
   "execution_count": 49,
   "outputs": []
  },
  {
   "cell_type": "markdown",
   "source": "### Task 5.2 Find the PCA's\nWrite the code to find the first 50 PCA's for the document-frequency matrix. Pass the document-term-matrix to scikit-learn’s (https://scikit-learn.org/stable/modules/decomposition.html#decompositions) PCA method to obtain the components and loading factors.",
   "metadata": {
    "id": "ArZki_hcapP_",
    "cell_id": "00083-66982a42-74fc-4b83-97c3-cf0d035dde5a",
    "deepnote_app_coordinates": {
     "x": 0,
     "y": 522,
     "w": 12,
     "h": 5
    },
    "deepnote_cell_type": "markdown"
   }
  },
  {
   "cell_type": "code",
   "metadata": {
    "id": "CRABWO6xapP_",
    "cell_id": "00084-7def206c-5d35-4a61-ad31-877ab78d33bf",
    "deepnote_app_coordinates": {
     "x": 0,
     "y": 528,
     "w": 12,
     "h": 5
    },
    "deepnote_to_be_reexecuted": false,
    "source_hash": "68f2d35a",
    "execution_start": 1636945186639,
    "execution_millis": 184,
    "output_cleared": true,
    "deepnote_cell_type": "code"
   },
   "source": "### BEGIN SOLUTION\nfrom sklearn.decomposition import PCA\n\n#calculate SVD\nmu = matrix.mean(axis = 0)\nmatrix_ = matrix - mu\n\nSigma = matrix_.T @ matrix / len(matrix_)\n\nimport scipy.linalg as linalg\nu, lam, uh = linalg.svd(Sigma)\n\npca = PCA(n_components = 50)\npca.fit(matrix)\n\n### END SOLUTION",
   "execution_count": 50,
   "outputs": []
  },
  {
   "cell_type": "markdown",
   "source": "### Task 5.3 Examine the PCA\nWe can examine the PCA results to look at the heatmap. Make a grid plot which shows the various principal component along the x-axis and the individual words along the y-axes. Each grid box should be color-coded based on the sign of the loading factor and how large the square of that value is. Looking at it vertically, you can see which words constitute your principal components. Looking at it horizontally, you can see how individual terms are shared between components. \n\n![title](images/pca.png)\n\n",
   "metadata": {
    "id": "UCjL4BbYapQA",
    "cell_id": "00085-32a5c1d1-506f-460d-ae33-cefd62de0410",
    "deepnote_app_coordinates": {
     "x": 0,
     "y": 534,
     "w": 12,
     "h": 5
    },
    "deepnote_cell_type": "markdown"
   }
  },
  {
   "cell_type": "code",
   "metadata": {
    "id": "FeF4AKiPapQA",
    "cell_id": "00086-cd7521ce-2ab0-4ef0-ad87-8db48ff63344",
    "deepnote_app_coordinates": {
     "x": 0,
     "y": 540,
     "w": 12,
     "h": 5
    },
    "deepnote_to_be_reexecuted": false,
    "source_hash": "e67b524d",
    "execution_start": 1636945189770,
    "execution_millis": 5024,
    "output_cleared": true,
    "deepnote_cell_type": "code"
   },
   "source": "### BEGIN SOLUTION\n\nfig = plt.figure( figsize = (30,30))\ncolor = sns.diverging_palette(100, 400, as_cmap=True)\nax = sns.heatmap(pca.components_, cmap = color,\n                 xticklabels=[\"PCA\"+str(x) for x in range(1,pca.n_components_+1)], yticklabels = words)\nax.set_aspect(\"equal\")\n\n### END SOLUTION",
   "execution_count": 51,
   "outputs": []
  },
  {
   "cell_type": "markdown",
   "source": "### Task 5.4 PCA Compare\nWe can determine how many words and how many components are needed to do a good visualization. Plot PC1 and PC2 in a 2D plot. The results should be similar to following scatter plot \n\n![title](images/PC1_PC2.png)\n\nThis is a scatter plot of the values of the components, but with arrows indicating some of the prominent terms as indicated by their loading factors. The values of the loading factors are used to determine the length and direction of these arrows and as such they serve as a way of expressing direction. That is, tweets which use these terms will be moved along the length of those arrows. Shown are the most important parameters.",
   "metadata": {
    "id": "BASs-3ERapQA",
    "cell_id": "00087-9c58cb5a-60bc-41e9-8a5f-bbe9533b6a26",
    "deepnote_app_coordinates": {
     "x": 0,
     "y": 546,
     "w": 12,
     "h": 5
    },
    "deepnote_cell_type": "markdown"
   }
  },
  {
   "cell_type": "code",
   "metadata": {
    "id": "Kw7mi75wapQA",
    "cell_id": "00088-2e33c69e-ab5a-4bff-b7bf-800e4560d20c",
    "deepnote_app_coordinates": {
     "x": 0,
     "y": 552,
     "w": 12,
     "h": 5
    },
    "deepnote_to_be_reexecuted": false,
    "source_hash": "bc807987",
    "execution_start": 1636945199876,
    "execution_millis": 2189,
    "output_cleared": true,
    "deepnote_cell_type": "code"
   },
   "source": "### BEGIN SOLUTION\npca0 = u[:,0]\npca1 = u[:,1]\n\npca0= (pca0 - pca0.mean())/ (pca0.max() - pca0.min())\npca1= (pca1 - pca1.mean())/ (pca1.max() - pca1.min())\n\nsns.jointplot(pca0, pca1)\n\n### END SOLUTION",
   "execution_count": 52,
   "outputs": []
  },
  {
   "cell_type": "markdown",
   "source": "## PART 6 - Twitter Engagement\n\nIn this problem, we'll explore which words led to a greater average number of retweets. For example, at the time of this writing, Donald Trump has two tweets that contain the word 'oakland' (tweets 932570628451954688 and 1016609920031117312) with 36757 and 10286 retweets respectively, for an average of 23,521.5.\n\n\nYour `top_20` table should have this format:\n\n<table border=\"1\" class=\"dataframe\">\n  <thead>\n    <tr style=\"text-align: right;\">\n      <th></th>\n      <th>retweet_count</th>\n    </tr>\n    <tr>\n      <th>word</th>\n      <th></th>\n    </tr>\n  </thead>\n  <tbody>\n    <tr>\n      <th>jong</th>\n      <td>40675.666667</td>\n    </tr>\n    <tr>\n      <th>try</th>\n      <td>33937.800000</td>\n    </tr>\n    <tr>\n      <th>kim</th>\n      <td>32849.595745</td>\n    </tr>\n    <tr>\n      <th>un</th>\n      <td>32741.731707</td>\n    </tr>\n    <tr>\n      <th>maybe</th>\n      <td>30473.192308</td>\n    </tr>\n  </tbody>\n</table>",
   "metadata": {
    "id": "n2-oIKbeapQA",
    "cell_id": "00089-c6ba2921-5050-4b0b-b50d-b92707774589",
    "deepnote_app_coordinates": {
     "x": 0,
     "y": 558,
     "w": 12,
     "h": 5
    },
    "deepnote_cell_type": "markdown"
   }
  },
  {
   "cell_type": "markdown",
   "source": "### Task 6.1\nFind the top 20 most retweeted words. Include only words that appear in at least 25 tweets. As usual, try to do this without any for loops. You can string together ~5-7 pandas commands and get everything done on one line.",
   "metadata": {
    "id": "3MzFQJDUapQA",
    "cell_id": "00090-08c4e91e-f2b5-48e6-813d-358fe2836e88",
    "deepnote_app_coordinates": {
     "x": 0,
     "y": 564,
     "w": 12,
     "h": 5
    },
    "deepnote_cell_type": "markdown"
   }
  },
  {
   "cell_type": "code",
   "metadata": {
    "id": "LIiOKJjuapQA",
    "cell_id": "00091-366e9fb1-f11e-43cb-b957-cc3be06ed704",
    "deepnote_app_coordinates": {
     "x": 0,
     "y": 570,
     "w": 12,
     "h": 5
    },
    "deepnote_to_be_reexecuted": true,
    "source_hash": "83b3c79e",
    "execution_start": 1636943679980,
    "execution_millis": 1444,
    "output_cleared": true,
    "deepnote_cell_type": "code"
   },
   "source": "#top_20 = ...\n### BEGIN SOLUTION\ntop25 = tmp.groupby('word').filter(lambda x: len(x) >= 25)\nmerged = top25.merge(df_trump, how='inner', right_index=True, left_index= True)\navg = merged.groupby('word').agg({'retweet_count': 'mean'})\nretweeted= avg['retweet_count'].sort_values(ascending=False)\ntop_20 =  retweeted.iloc[0:20]\ntop_20\n### END SOLUTION",
   "execution_count": null,
   "outputs": []
  },
  {
   "cell_type": "markdown",
   "source": "### Task 6.2\nPlot a bar chart of your results:",
   "metadata": {
    "id": "5lSh8NdyapQA",
    "cell_id": "00092-252f80dc-cd9f-4ae3-ad8b-cb916a4a0777",
    "deepnote_app_coordinates": {
     "x": 0,
     "y": 576,
     "w": 12,
     "h": 5
    },
    "deepnote_cell_type": "markdown"
   }
  },
  {
   "cell_type": "code",
   "metadata": {
    "id": "CPahzHsVapQA",
    "cell_id": "00093-2460eaf7-3f2f-4033-bdf4-e1f2259c0a7e",
    "deepnote_app_coordinates": {
     "x": 0,
     "y": 582,
     "w": 12,
     "h": 5
    },
    "deepnote_to_be_reexecuted": true,
    "source_hash": "50ca71eb",
    "execution_start": 1636943681433,
    "execution_millis": 1018,
    "output_cleared": true,
    "deepnote_cell_type": "code"
   },
   "source": "### BEGIN SOLUTION\ntop_20.plot.barh(figsize=(10, 10));\n\n### BEGIN SOLUTION",
   "execution_count": null,
   "outputs": []
  },
  {
   "cell_type": "markdown",
   "source": "## PART 7 - Conclusion (Optional for Individual)\nWhat else can we do? Let us ask some open ended questions.",
   "metadata": {
    "id": "3CzsT89dapQA",
    "cell_id": "00094-b89cc4a5-0ae4-4d8f-9e39-edb745649a97",
    "deepnote_app_coordinates": {
     "x": 0,
     "y": 588,
     "w": 12,
     "h": 5
    },
    "deepnote_cell_type": "markdown"
   }
  },
  {
   "cell_type": "markdown",
   "source": "### Task 7.1\n\"kim\", \"jong\" and \"un\" are apparently really popular in Trump's tweets! It seems like we can conclude that his tweets involving jong are more popular than his other tweets. Or can we?\n\nConsider each of the statements about possible confounding factors below. State whether each statement is true or false and explain. If the statement is true, state whether the confounding factor could have made kim jong un related tweets higher in the list than they should be.\n\n1. We didn't restrict our word list to nouns, so we have unhelpful words like \"let\" and \"any\" in our result.\n      - That might be why 'un' is the most popular.\n1. We didn't remove hashtags in our text, so we have duplicate words (eg. #great and great).\n      - Some may only have '#great' not 'great' which make the average lower\n1. We didn't account for the fact that Trump's follower count has increased over time.\n      - This can affect a lot. As Trump's follower count has increased, the more popular every word be",
   "metadata": {
    "id": "00lj_c39apQA",
    "cell_id": "00095-4028abcc-a2e9-4a11-8680-7605b6477069",
    "deepnote_app_coordinates": {
     "x": 0,
     "y": 594,
     "w": 12,
     "h": 5
    },
    "deepnote_cell_type": "markdown"
   }
  },
  {
   "cell_type": "code",
   "metadata": {
    "id": "dShu7ypuapQB",
    "cell_id": "00096-c4276751-4f79-4d3d-ac1d-310678951bb3",
    "deepnote_app_coordinates": {
     "x": 0,
     "y": 600,
     "w": 12,
     "h": 5
    },
    "deepnote_to_be_reexecuted": true,
    "source_hash": "f611668b",
    "execution_start": 1636943682457,
    "execution_millis": 146529,
    "output_cleared": true,
    "deepnote_cell_type": "code"
   },
   "source": "#### BEGIN SOLUTION\n#1. Although we didnt restrict our word list to nouns, 'un' is not a word by itself so it would only appear as many times as kim jong un\n#2. This is true, and might have affected our count of great and other words that have hashtags\n#3. This is also may be true, as the more followers, more popular a word may be and may make kim jung un tweets more popular\n\n\n#### END SOLUTION",
   "execution_count": null,
   "outputs": []
  },
  {
   "cell_type": "markdown",
   "source": "### Task 7.2\nUsing the `df_trump` tweets construct an interesting plot describing a property of the data and discuss what you found below.\n\n**Ideas:**\n\n1. How has the sentiment changed with length of the tweets?\n1. Does sentiment affect retweet count?\n1. Are retweets more negative than regular tweets?\n1. Are there any spikes in the number of retweets and do the correspond to world events? \n1. What terms have an especially positive or negative sentiment?\n\nYou can look at other data sources and even tweets. Do some plots and discuss. You can add more cells here as needed.\n",
   "metadata": {
    "id": "b6SBTwpsapQB",
    "cell_id": "00097-4a763374-d82f-4259-93fb-35c3f39d0d65",
    "deepnote_app_coordinates": {
     "x": 0,
     "y": 606,
     "w": 12,
     "h": 5
    },
    "deepnote_cell_type": "markdown"
   }
  },
  {
   "cell_type": "code",
   "metadata": {
    "id": "qqshSSqVapQB",
    "cell_id": "00098-70256de1-3f18-421e-a291-a1c676bf565d",
    "deepnote_app_coordinates": {
     "x": 0,
     "y": 612,
     "w": 12,
     "h": 5
    },
    "deepnote_to_be_reexecuted": false,
    "source_hash": "f9ea7bca",
    "execution_start": 1636946433211,
    "execution_millis": 37543,
    "output_cleared": true,
    "deepnote_cell_type": "code"
   },
   "source": "#### BEGIN SOLUTION\n# What terms have an especially positive or negative sentiment?\nfrom textblob import TextBlob\n\ntmp['sentiment'] = tmp['word'].apply(lambda x: TextBlob(x).sentiment.polarity)\ntmp.drop_duplicates(subset = 'word', keep = 'first', inplace = True)\nsorted_sentiment_negative = tmp.sort_values('sentiment').iloc[0:10]\nsorted_sentiment_negative.set_index('word', inplace = True)\nax = sns.barplot(y = sorted_sentiment_negative.index, x ='sentiment', data = sorted_sentiment_negative)\n#### END SOLUTION\n",
   "execution_count": 72,
   "outputs": []
  },
  {
   "cell_type": "markdown",
   "source": "#### BEGIN SOLUTION\nDiscussion: \"Enter question you tried answering\"\n\nWhat terms have an especially negative sentiment?\n\nAnswer:\nevil, boring, horribly, horrible, disgusting, outrageous, devastating, terribly, nasty, vicious \n#### END SOLUTION",
   "metadata": {
    "id": "Cs8GlQj2apQB",
    "cell_id": "00099-0bbcb66a-5347-487a-a5ae-862cddccc43a",
    "deepnote_app_coordinates": {
     "x": 0,
     "y": 618,
     "w": 12,
     "h": 5
    },
    "deepnote_cell_type": "markdown"
   }
  },
  {
   "cell_type": "markdown",
   "source": "### Group Part - Find Something interesting (Optional for Individuals)\nIs there still something interesting to find in this data set? Use your own imagination to ask some good questions. Don't be bias and look for the answer in data. Don't ask us what we want, because we do not know either. This will be for EXTRA CREDIT for individuals but part of the regular assignment for groups. Add any cells below.\n",
   "metadata": {
    "id": "mdfBoczTapQB",
    "cell_id": "00100-fd0a556d-2583-4c4d-8c12-517c5478837d",
    "deepnote_app_coordinates": {
     "x": 0,
     "y": 624,
     "w": 12,
     "h": 5
    },
    "deepnote_cell_type": "markdown"
   }
  },
  {
   "cell_type": "markdown",
   "source": "1) Does trump use words that have negative sentiment more often than positive? \n2) Do the tweets with the most retweets contain more negative setiment words?\n3) What phrases are frequent in Trump's tweets? ",
   "metadata": {
    "tags": [],
    "deepnote_app_coordinates": {
     "x": 0,
     "y": 0,
     "w": 12,
     "h": 5
    },
    "cell_id": "00107-ab0f12a2-3130-4a36-b280-56a1f2ded2fc",
    "deepnote_cell_type": "markdown"
   }
  },
  {
   "cell_type": "code",
   "source": "#2\ndf_trump['sentiment'] = df_trump['text'].apply(lambda x: TextBlob(x).sentiment.polarity)\n# df_trump\nmost_retweets = df_trump[['sentiment', 'retweet_count']]\nmost_retweets.sort_values(by = 'retweet_count', inplace = True, ascending = False)\nmost_retweets.head(20)\n\n#The most retweeted tweets are mostly neutral in sentiment. Positive sentiment is almost lacking, and some of the tweets have a negative sentiment\n",
   "metadata": {
    "tags": [],
    "deepnote_app_coordinates": {
     "x": 0,
     "y": 0,
     "w": 12,
     "h": 5
    },
    "cell_id": "00108-6379a097-693d-4cfb-998d-cfcf0d4a1e44",
    "deepnote_to_be_reexecuted": false,
    "source_hash": "3b57567",
    "execution_start": 1636947518786,
    "execution_millis": 7154,
    "output_cleared": true,
    "deepnote_cell_type": "code"
   },
   "outputs": [],
   "execution_count": 91
  },
  {
   "cell_type": "markdown",
   "source": "<div class=\"alert alert-block alert-info\">\n<h2>Submission Instructions</h2> \n<b> File Name:</b> Please name the file as yourSection_yourNetID_midsemester.jpynb<br>\n<b> Group Projects:</b> Each person in the group must submit a copy with both names listed. If you are doing a group project, you must inform your TA prior to 11/3/21 that you intend to work as a group and submit your name and your partner name. We will <b>not accept group work</b> if your TA has not been notified.<br>\n<b> Submit To: </b> Canvas &rarr; Assignments &rarr; midsemester (remove all output. Do not submit data files<br>\n<b>Warning:</b> Failure to follow directions may result in loss points.<br>\n</div>",
   "metadata": {
    "id": "WHDvFI8bapQB",
    "cell_id": "00101-724e4a7c-bbd9-4e13-8a57-ebe6ee82f47e",
    "deepnote_app_coordinates": {
     "x": 0,
     "y": 630,
     "w": 12,
     "h": 5
    },
    "deepnote_cell_type": "markdown"
   }
  },
  {
   "cell_type": "markdown",
   "source": "Created by Andy Guna @2019-2021 Credits: Josh Hug, and Berkeley Data Science Group, Steve Skiena, David Rodreguez",
   "metadata": {
    "id": "gjF3QW2tapQB",
    "cell_id": "00102-6ecc108d-d08d-4a85-b492-6d1a9332a980",
    "deepnote_app_coordinates": {
     "x": 0,
     "y": 636,
     "w": 12,
     "h": 5
    },
    "deepnote_cell_type": "markdown"
   }
  },
  {
   "cell_type": "markdown",
   "source": "<a style='text-decoration:none;line-height:16px;display:flex;color:#5B5B62;padding:10px;justify-content:end;' href='https://deepnote.com?utm_source=created-in-deepnote-cell&projectId=3c965daa-37bb-4d88-827a-43213f4176fe' target=\"_blank\">\n<img alt='Created in deepnote.com' style='display:inline;max-height:16px;margin:0px;margin-right:7.5px;' src='data:image/svg+xml;base64,PD94bWwgdmVyc2lvbj0iMS4wIiBlbmNvZGluZz0iVVRGLTgiPz4KPHN2ZyB3aWR0aD0iODBweCIgaGVpZ2h0PSI4MHB4IiB2aWV3Qm94PSIwIDAgODAgODAiIHZlcnNpb249IjEuMSIgeG1sbnM9Imh0dHA6Ly93d3cudzMub3JnLzIwMDAvc3ZnIiB4bWxuczp4bGluaz0iaHR0cDovL3d3dy53My5vcmcvMTk5OS94bGluayI+CiAgICA8IS0tIEdlbmVyYXRvcjogU2tldGNoIDU0LjEgKDc2NDkwKSAtIGh0dHBzOi8vc2tldGNoYXBwLmNvbSAtLT4KICAgIDx0aXRsZT5Hcm91cCAzPC90aXRsZT4KICAgIDxkZXNjPkNyZWF0ZWQgd2l0aCBTa2V0Y2guPC9kZXNjPgogICAgPGcgaWQ9IkxhbmRpbmciIHN0cm9rZT0ibm9uZSIgc3Ryb2tlLXdpZHRoPSIxIiBmaWxsPSJub25lIiBmaWxsLXJ1bGU9ImV2ZW5vZGQiPgogICAgICAgIDxnIGlkPSJBcnRib2FyZCIgdHJhbnNmb3JtPSJ0cmFuc2xhdGUoLTEyMzUuMDAwMDAwLCAtNzkuMDAwMDAwKSI+CiAgICAgICAgICAgIDxnIGlkPSJHcm91cC0zIiB0cmFuc2Zvcm09InRyYW5zbGF0ZSgxMjM1LjAwMDAwMCwgNzkuMDAwMDAwKSI+CiAgICAgICAgICAgICAgICA8cG9seWdvbiBpZD0iUGF0aC0yMCIgZmlsbD0iIzAyNjVCNCIgcG9pbnRzPSIyLjM3NjIzNzYyIDgwIDM4LjA0NzY2NjcgODAgNTcuODIxNzgyMiA3My44MDU3NTkyIDU3LjgyMTc4MjIgMzIuNzU5MjczOSAzOS4xNDAyMjc4IDMxLjY4MzE2ODMiPjwvcG9seWdvbj4KICAgICAgICAgICAgICAgIDxwYXRoIGQ9Ik0zNS4wMDc3MTgsODAgQzQyLjkwNjIwMDcsNzYuNDU0OTM1OCA0Ny41NjQ5MTY3LDcxLjU0MjI2NzEgNDguOTgzODY2LDY1LjI2MTk5MzkgQzUxLjExMjI4OTksNTUuODQxNTg0MiA0MS42NzcxNzk1LDQ5LjIxMjIyODQgMjUuNjIzOTg0Niw0OS4yMTIyMjg0IEMyNS40ODQ5Mjg5LDQ5LjEyNjg0NDggMjkuODI2MTI5Niw0My4yODM4MjQ4IDM4LjY0NzU4NjksMzEuNjgzMTY4MyBMNzIuODcxMjg3MSwzMi41NTQ0MjUgTDY1LjI4MDk3Myw2Ny42NzYzNDIxIEw1MS4xMTIyODk5LDc3LjM3NjE0NCBMMzUuMDA3NzE4LDgwIFoiIGlkPSJQYXRoLTIyIiBmaWxsPSIjMDAyODY4Ij48L3BhdGg+CiAgICAgICAgICAgICAgICA8cGF0aCBkPSJNMCwzNy43MzA0NDA1IEwyNy4xMTQ1MzcsMC4yNTcxMTE0MzYgQzYyLjM3MTUxMjMsLTEuOTkwNzE3MDEgODAsMTAuNTAwMzkyNyA4MCwzNy43MzA0NDA1IEM4MCw2NC45NjA0ODgyIDY0Ljc3NjUwMzgsNzkuMDUwMzQxNCAzNC4zMjk1MTEzLDgwIEM0Ny4wNTUzNDg5LDc3LjU2NzA4MDggNTMuNDE4MjY3Nyw3MC4zMTM2MTAzIDUzLjQxODI2NzcsNTguMjM5NTg4NSBDNTMuNDE4MjY3Nyw0MC4xMjg1NTU3IDM2LjMwMzk1NDQsMzcuNzMwNDQwNSAyNS4yMjc0MTcsMzcuNzMwNDQwNSBDMTcuODQzMDU4NiwzNy43MzA0NDA1IDkuNDMzOTE5NjYsMzcuNzMwNDQwNSAwLDM3LjczMDQ0MDUgWiIgaWQ9IlBhdGgtMTkiIGZpbGw9IiMzNzkzRUYiPjwvcGF0aD4KICAgICAgICAgICAgPC9nPgogICAgICAgIDwvZz4KICAgIDwvZz4KPC9zdmc+' > </img>\nCreated in <span style='font-weight:600;margin-left:4px;'>Deepnote</span></a>",
   "metadata": {
    "tags": [],
    "created_in_deepnote_cell": true,
    "deepnote_cell_type": "markdown"
   }
  }
 ],
 "nbformat": 4,
 "nbformat_minor": 1,
 "metadata": {
  "colab": {
   "name": "MidSemester Project - F21.ipynb",
   "provenance": []
  },
  "kernelspec": {
   "display_name": "Python 3",
   "language": "python",
   "name": "python3"
  },
  "language_info": {
   "codemirror_mode": {
    "name": "ipython",
    "version": 3
   },
   "file_extension": ".py",
   "mimetype": "text/x-python",
   "name": "python",
   "nbconvert_exporter": "python",
   "pygments_lexer": "ipython3",
   "version": "3.8.8"
  },
  "deepnote_notebook_id": "fc2aa62e-4f0e-4a5a-af37-9d5b59e01ac1",
  "deepnote": {},
  "deepnote_execution_queue": [],
  "deepnote_app_layout": "article"
 }
}